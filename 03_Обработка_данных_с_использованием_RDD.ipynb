{
  "cells": [
    {
      "cell_type": "markdown",
      "metadata": {
        "id": "GOvbU4Yn8GY2"
      },
      "source": [
        "![Spark Image](https://upload.wikimedia.org/wikipedia/commons/thumb/f/f3/Apache_Spark_logo.svg/1200px-Apache_Spark_logo.svg.png)"
      ]
    },
    {
      "cell_type": "code",
      "source": [
        "!git clone --recursive https://github.com/tester170/Other.git"
      ],
      "metadata": {
        "id": "6DS8QDsHQQ-h",
        "colab": {
          "base_uri": "https://localhost:8080/"
        },
        "outputId": "b8d4877f-21b4-4c28-bc24-16339a7f20aa"
      },
      "execution_count": 1,
      "outputs": [
        {
          "output_type": "stream",
          "name": "stdout",
          "text": [
            "Cloning into 'Other'...\n",
            "remote: Enumerating objects: 53, done.\u001b[K\n",
            "remote: Counting objects: 100% (53/53), done.\u001b[K\n",
            "remote: Compressing objects: 100% (51/51), done.\u001b[K\n",
            "remote: Total 53 (delta 12), reused 0 (delta 0), pack-reused 0\u001b[K\n",
            "Receiving objects: 100% (53/53), 32.61 MiB | 10.24 MiB/s, done.\n",
            "Resolving deltas: 100% (12/12), done.\n"
          ]
        }
      ]
    },
    {
      "cell_type": "code",
      "source": [
        "!ls Other/"
      ],
      "metadata": {
        "id": "vq1lZv7sRV7A",
        "colab": {
          "base_uri": "https://localhost:8080/"
        },
        "outputId": "57933589-7c6c-48f7-8e5d-be1cc2a2ceec"
      },
      "execution_count": 109,
      "outputs": [
        {
          "output_type": "stream",
          "name": "stdout",
          "text": [
            "archive.zip  births.csv   data.zip   excel.py  passengers.csv  responses.csv  сollege_data.csv\n",
            "beauty.csv   columns.csv  email.csv  images    README.md       xl\n"
          ]
        }
      ]
    },
    {
      "cell_type": "code",
      "source": [
        "!unzip \"/content/Other/data.zip\" -d \"/content/\""
      ],
      "metadata": {
        "id": "-977ia-VRYRx",
        "colab": {
          "base_uri": "https://localhost:8080/"
        },
        "outputId": "e705c8f2-391f-48ac-8be5-71bf7ce9ae28"
      },
      "execution_count": 105,
      "outputs": [
        {
          "output_type": "stream",
          "name": "stdout",
          "text": [
            "Archive:  /content/Other/data.zip\n",
            "   creating: /content_1/data/\n",
            "  inflating: /content_1/__MACOSX/._data  \n",
            "  inflating: /content_1/data/new_customers.csv  \n",
            "  inflating: /content_1/__MACOSX/data/._new_customers.csv  \n",
            "   creating: /content_1/data/ml-1m/\n",
            "  inflating: /content_1/__MACOSX/data/._ml-1m  \n",
            "  inflating: /content_1/data/Meal_Info.csv  \n",
            "  inflating: /content_1/__MACOSX/data/._Meal_Info.csv  \n",
            "  inflating: /content_1/data/fakefriends.csv  \n",
            "  inflating: /content_1/__MACOSX/data/._fakefriends.csv  \n",
            "  inflating: /content_1/data/sample_linear_regression_data.txt  \n",
            "  inflating: /content_1/__MACOSX/data/._sample_linear_regression_data.txt  \n",
            "  inflating: /content_1/data/College.csv  \n",
            "  inflating: /content_1/__MACOSX/data/._College.csv  \n",
            "  inflating: /content_1/data/fake_customers.csv  \n",
            "  inflating: /content_1/__MACOSX/data/._fake_customers.csv  \n",
            "  inflating: /content_1/data/movielens_ratings.csv  \n",
            "  inflating: /content_1/__MACOSX/data/._movielens_ratings.csv  \n",
            "  inflating: /content_1/data/Book.txt  \n",
            "  inflating: /content_1/__MACOSX/data/._Book.txt  \n",
            "  inflating: /content_1/data/cruise_ship_info.csv  \n",
            "  inflating: /content_1/__MACOSX/data/._cruise_ship_info.csv  \n",
            "  inflating: /content_1/data/sample_libsvm_data.txt  \n",
            "  inflating: /content_1/__MACOSX/data/._sample_libsvm_data.txt  \n",
            "  inflating: /content_1/data/seeds_dataset.csv  \n",
            "  inflating: /content_1/__MACOSX/data/._seeds_dataset.csv  \n",
            "  inflating: /content_1/data/2015-summary.json  \n",
            "  inflating: /content_1/__MACOSX/data/._2015-summary.json  \n",
            "  inflating: /content_1/data/customer_churn.csv  \n",
            "  inflating: /content_1/__MACOSX/data/._customer_churn.csv  \n",
            "  inflating: /content_1/data/titanic.csv  \n",
            "  inflating: /content_1/__MACOSX/data/._titanic.csv  \n",
            "   creating: /content_1/data/smsspamcollection/\n",
            "  inflating: /content_1/__MACOSX/data/._smsspamcollection  \n",
            "   creating: /content_1/data/retail-data/\n",
            "  inflating: /content_1/__MACOSX/data/._retail-data  \n",
            "  inflating: /content_1/data/dog_food.csv  \n",
            "  inflating: /content_1/__MACOSX/data/._dog_food.csv  \n",
            "  inflating: /content_1/data/Ecommerce_Customers.csv  \n",
            "  inflating: /content_1/__MACOSX/data/._Ecommerce_Customers.csv  \n",
            "  inflating: /content_1/data/hack_data.csv  \n",
            "  inflating: /content_1/__MACOSX/data/._hack_data.csv  \n",
            "  inflating: /content_1/data/seeds_dataset.txt  \n",
            "  inflating: /content_1/__MACOSX/data/._seeds_dataset.txt  \n",
            "  inflating: /content_1/data/1800.csv  \n",
            "  inflating: /content_1/__MACOSX/data/._1800.csv  \n",
            "  inflating: /content_1/data/2010-12-01.csv  \n",
            "  inflating: /content_1/__MACOSX/data/._2010-12-01.csv  \n",
            "  inflating: /content_1/data/sample_kmeans_data.txt  \n",
            "  inflating: /content_1/__MACOSX/data/._sample_kmeans_data.txt  \n",
            "  inflating: /content_1/data/ml-1m/movies.dat  \n",
            "  inflating: /content_1/__MACOSX/data/ml-1m/._movies.dat  \n",
            "  inflating: /content_1/data/ml-1m/ratings.dat  \n",
            "  inflating: /content_1/__MACOSX/data/ml-1m/._ratings.dat  \n",
            "  inflating: /content_1/data/ml-1m/README  \n",
            "  inflating: /content_1/__MACOSX/data/ml-1m/._README  \n",
            "  inflating: /content_1/data/ml-1m/users.dat  \n",
            "  inflating: /content_1/__MACOSX/data/ml-1m/._users.dat  \n",
            "  inflating: /content_1/data/smsspamcollection/readme  \n",
            "  inflating: /content_1/__MACOSX/data/smsspamcollection/._readme  \n",
            "  inflating: /content_1/data/smsspamcollection/SMSSpamCollection  \n",
            "  inflating: /content_1/__MACOSX/data/smsspamcollection/._SMSSpamCollection  \n",
            "   creating: /content_1/data/retail-data/all/\n",
            "  inflating: /content_1/__MACOSX/data/retail-data/._all  \n",
            "   creating: /content_1/data/retail-data/by-day/\n",
            "  inflating: /content_1/__MACOSX/data/retail-data/._by-day  \n",
            "  inflating: /content_1/data/retail-data/all/online-retail-dataset.csv  \n",
            "  inflating: /content_1/__MACOSX/data/retail-data/all/._online-retail-dataset.csv  \n",
            "  inflating: /content_1/data/retail-data/by-day/2011-03-03.csv  \n",
            "  inflating: /content_1/__MACOSX/data/retail-data/by-day/._2011-03-03.csv  \n",
            "  inflating: /content_1/data/retail-data/by-day/2011-03-17.csv  \n",
            "  inflating: /content_1/__MACOSX/data/retail-data/by-day/._2011-03-17.csv  \n",
            "  inflating: /content_1/data/retail-data/by-day/2010-12-19.csv  \n",
            "  inflating: /content_1/__MACOSX/data/retail-data/by-day/._2010-12-19.csv  \n",
            "  inflating: /content_1/data/retail-data/by-day/2011-11-17.csv  \n",
            "  inflating: /content_1/__MACOSX/data/retail-data/by-day/._2011-11-17.csv  \n",
            "  inflating: /content_1/data/retail-data/by-day/2011-11-03.csv  \n",
            "  inflating: /content_1/__MACOSX/data/retail-data/by-day/._2011-11-03.csv  \n",
            "  inflating: /content_1/data/retail-data/by-day/2011-06-27.csv  \n",
            "  inflating: /content_1/__MACOSX/data/retail-data/by-day/._2011-06-27.csv  \n",
            "  inflating: /content_1/data/retail-data/by-day/2011-01-06.csv  \n",
            "  inflating: /content_1/__MACOSX/data/retail-data/by-day/._2011-01-06.csv  \n",
            "  inflating: /content_1/data/retail-data/by-day/2011-08-22.csv  \n",
            "  inflating: /content_1/__MACOSX/data/retail-data/by-day/._2011-08-22.csv  \n",
            "  inflating: /content_1/data/retail-data/by-day/2011-01-12.csv  \n",
            "  inflating: /content_1/__MACOSX/data/retail-data/by-day/._2011-01-12.csv  \n",
            "  inflating: /content_1/data/retail-data/by-day/2011-01-13.csv  \n",
            "  inflating: /content_1/__MACOSX/data/retail-data/by-day/._2011-01-13.csv  \n",
            "  inflating: /content_1/data/retail-data/by-day/2011-01-07.csv  \n",
            "  inflating: /content_1/__MACOSX/data/retail-data/by-day/._2011-01-07.csv  \n",
            "  inflating: /content_1/data/retail-data/by-day/2011-08-23.csv  \n",
            "  inflating: /content_1/__MACOSX/data/retail-data/by-day/._2011-08-23.csv  \n",
            "  inflating: /content_1/data/retail-data/by-day/2011-06-26.csv  \n",
            "  inflating: /content_1/__MACOSX/data/retail-data/by-day/._2011-06-26.csv  \n",
            "  inflating: /content_1/data/retail-data/by-day/2011-11-02.csv  \n",
            "  inflating: /content_1/__MACOSX/data/retail-data/by-day/._2011-11-02.csv  \n",
            "  inflating: /content_1/data/retail-data/by-day/2011-11-16.csv  \n",
            "  inflating: /content_1/__MACOSX/data/retail-data/by-day/._2011-11-16.csv  \n",
            "  inflating: /content_1/data/retail-data/by-day/2011-03-16.csv  \n",
            "  inflating: /content_1/__MACOSX/data/retail-data/by-day/._2011-03-16.csv  \n",
            "  inflating: /content_1/data/retail-data/by-day/2011-03-02.csv  \n",
            "  inflating: /content_1/__MACOSX/data/retail-data/by-day/._2011-03-02.csv  \n",
            "  inflating: /content_1/data/retail-data/by-day/2011-04-21.csv  \n",
            "  inflating: /content_1/__MACOSX/data/retail-data/by-day/._2011-04-21.csv  \n",
            "  inflating: /content_1/data/retail-data/by-day/2011-03-28.csv  \n",
            "  inflating: /content_1/__MACOSX/data/retail-data/by-day/._2011-03-28.csv  \n",
            "  inflating: /content_1/data/retail-data/by-day/2011-03-14.csv  \n",
            "  inflating: /content_1/__MACOSX/data/retail-data/by-day/._2011-03-14.csv  \n",
            "  inflating: /content_1/data/retail-data/by-day/2011-11-28.csv  \n",
            "  inflating: /content_1/__MACOSX/data/retail-data/by-day/._2011-11-28.csv  \n",
            "  inflating: /content_1/data/retail-data/by-day/2011-11-14.csv  \n",
            "  inflating: /content_1/__MACOSX/data/retail-data/by-day/._2011-11-14.csv  \n",
            "  inflating: /content_1/data/retail-data/by-day/2011-06-24.csv  \n",
            "  inflating: /content_1/__MACOSX/data/retail-data/by-day/._2011-06-24.csv  \n",
            "  inflating: /content_1/data/retail-data/by-day/2011-08-09.csv  \n",
            "  inflating: /content_1/__MACOSX/data/retail-data/by-day/._2011-08-09.csv  \n",
            "  inflating: /content_1/data/retail-data/by-day/2011-06-30.csv  \n",
            "  inflating: /content_1/__MACOSX/data/retail-data/by-day/._2011-06-30.csv  \n",
            "  inflating: /content_1/data/retail-data/by-day/2011-01-11.csv  \n",
            "  inflating: /content_1/__MACOSX/data/retail-data/by-day/._2011-01-11.csv  \n",
            "  inflating: /content_1/data/retail-data/by-day/2011-08-21.csv  \n",
            "  inflating: /content_1/__MACOSX/data/retail-data/by-day/._2011-08-21.csv  \n",
            "  inflating: /content_1/data/retail-data/by-day/2011-01-05.csv  \n",
            "  inflating: /content_1/__MACOSX/data/retail-data/by-day/._2011-01-05.csv  \n",
            "  inflating: /content_1/data/retail-data/by-day/2011-01-04.csv  \n",
            "  inflating: /content_1/__MACOSX/data/retail-data/by-day/._2011-01-04.csv  \n",
            "  inflating: /content_1/data/retail-data/by-day/2011-01-10.csv  \n",
            "  inflating: /content_1/__MACOSX/data/retail-data/by-day/._2011-01-10.csv  \n",
            "  inflating: /content_1/data/retail-data/by-day/2011-06-19.csv  \n",
            "  inflating: /content_1/__MACOSX/data/retail-data/by-day/._2011-06-19.csv  \n",
            "  inflating: /content_1/data/retail-data/by-day/2011-08-08.csv  \n",
            "  inflating: /content_1/__MACOSX/data/retail-data/by-day/._2011-08-08.csv  \n",
            "  inflating: /content_1/data/retail-data/by-day/2011-11-15.csv  \n",
            "  inflating: /content_1/__MACOSX/data/retail-data/by-day/._2011-11-15.csv  \n",
            "  inflating: /content_1/data/retail-data/by-day/2011-11-01.csv  \n",
            "  inflating: /content_1/__MACOSX/data/retail-data/by-day/._2011-11-01.csv  \n",
            "  inflating: /content_1/data/retail-data/by-day/2011-11-29.csv  \n",
            "  inflating: /content_1/__MACOSX/data/retail-data/by-day/._2011-11-29.csv  \n",
            "  inflating: /content_1/data/retail-data/by-day/2011-03-01.csv  \n",
            "  inflating: /content_1/__MACOSX/data/retail-data/by-day/._2011-03-01.csv  \n",
            "  inflating: /content_1/data/retail-data/by-day/2011-04-08.csv  \n",
            "  inflating: /content_1/__MACOSX/data/retail-data/by-day/._2011-04-08.csv  \n",
            "  inflating: /content_1/data/retail-data/by-day/2011-03-15.csv  \n",
            "  inflating: /content_1/__MACOSX/data/retail-data/by-day/._2011-03-15.csv  \n",
            "  inflating: /content_1/data/retail-data/by-day/2011-04-20.csv  \n",
            "  inflating: /content_1/__MACOSX/data/retail-data/by-day/._2011-04-20.csv  \n",
            "  inflating: /content_1/data/retail-data/by-day/2011-03-29.csv  \n",
            "  inflating: /content_1/__MACOSX/data/retail-data/by-day/._2011-03-29.csv  \n",
            "  inflating: /content_1/data/retail-data/by-day/2011-03-11.csv  \n",
            "  inflating: /content_1/__MACOSX/data/retail-data/by-day/._2011-03-11.csv  \n",
            "  inflating: /content_1/data/retail-data/by-day/2011-04-18.csv  \n",
            "  inflating: /content_1/__MACOSX/data/retail-data/by-day/._2011-04-18.csv  \n",
            "  inflating: /content_1/data/retail-data/by-day/2010-12-23.csv  \n",
            "  inflating: /content_1/__MACOSX/data/retail-data/by-day/._2010-12-23.csv  \n",
            "  inflating: /content_1/data/retail-data/by-day/2011-11-11.csv  \n",
            "  inflating: /content_1/__MACOSX/data/retail-data/by-day/._2011-11-11.csv  \n",
            "  inflating: /content_1/data/retail-data/by-day/2011-08-30.csv  \n",
            "  inflating: /content_1/__MACOSX/data/retail-data/by-day/._2011-08-30.csv  \n",
            "  inflating: /content_1/data/retail-data/by-day/2011-01-14.csv  \n",
            "  inflating: /content_1/__MACOSX/data/retail-data/by-day/._2011-01-14.csv  \n",
            "  inflating: /content_1/data/retail-data/by-day/2011-06-09.csv  \n",
            "  inflating: /content_1/__MACOSX/data/retail-data/by-day/._2011-06-09.csv  \n",
            "  inflating: /content_1/data/retail-data/by-day/2011-08-24.csv  \n",
            "  inflating: /content_1/__MACOSX/data/retail-data/by-day/._2011-08-24.csv  \n",
            "  inflating: /content_1/data/retail-data/by-day/2011-06-21.csv  \n",
            "  inflating: /content_1/__MACOSX/data/retail-data/by-day/._2011-06-21.csv  \n",
            "  inflating: /content_1/data/retail-data/by-day/2011-01-28.csv  \n",
            "  inflating: /content_1/__MACOSX/data/retail-data/by-day/._2011-01-28.csv  \n",
            "  inflating: /content_1/data/retail-data/by-day/2011-08-18.csv  \n",
            "  inflating: /content_1/__MACOSX/data/retail-data/by-day/._2011-08-18.csv  \n",
            "  inflating: /content_1/data/retail-data/by-day/2011-08-19.csv  \n",
            "  inflating: /content_1/__MACOSX/data/retail-data/by-day/._2011-08-19.csv  \n",
            "  inflating: /content_1/data/retail-data/by-day/2011-06-20.csv  \n",
            "  inflating: /content_1/__MACOSX/data/retail-data/by-day/._2011-06-20.csv  \n",
            "  inflating: /content_1/data/retail-data/by-day/2011-08-25.csv  \n",
            "  inflating: /content_1/__MACOSX/data/retail-data/by-day/._2011-08-25.csv  \n",
            "  inflating: /content_1/data/retail-data/by-day/2011-06-08.csv  \n",
            "  inflating: /content_1/__MACOSX/data/retail-data/by-day/._2011-06-08.csv  \n",
            "  inflating: /content_1/data/retail-data/by-day/2011-08-31.csv  \n",
            "  inflating: /content_1/__MACOSX/data/retail-data/by-day/._2011-08-31.csv  \n",
            "  inflating: /content_1/data/retail-data/by-day/2011-11-10.csv  \n",
            "  inflating: /content_1/__MACOSX/data/retail-data/by-day/._2011-11-10.csv  \n",
            "  inflating: /content_1/data/retail-data/by-day/2011-11-04.csv  \n",
            "  inflating: /content_1/__MACOSX/data/retail-data/by-day/._2011-11-04.csv  \n",
            "  inflating: /content_1/data/retail-data/by-day/2010-12-22.csv  \n",
            "  inflating: /content_1/__MACOSX/data/retail-data/by-day/._2010-12-22.csv  \n",
            "  inflating: /content_1/data/retail-data/by-day/2011-03-04.csv  \n",
            "  inflating: /content_1/__MACOSX/data/retail-data/by-day/._2011-03-04.csv  \n",
            "  inflating: /content_1/data/retail-data/by-day/2011-03-10.csv  \n",
            "  inflating: /content_1/__MACOSX/data/retail-data/by-day/._2011-03-10.csv  \n",
            "  inflating: /content_1/data/retail-data/by-day/2011-04-19.csv  \n",
            "  inflating: /content_1/__MACOSX/data/retail-data/by-day/._2011-04-19.csv  \n",
            "  inflating: /content_1/data/retail-data/by-day/2011-03-06.csv  \n",
            "  inflating: /content_1/__MACOSX/data/retail-data/by-day/._2011-03-06.csv  \n",
            "  inflating: /content_1/data/retail-data/by-day/2011-04-27.csv  \n",
            "  inflating: /content_1/__MACOSX/data/retail-data/by-day/._2011-04-27.csv  \n",
            "  inflating: /content_1/data/retail-data/by-day/2010-12-20.csv  \n",
            "  inflating: /content_1/__MACOSX/data/retail-data/by-day/._2010-12-20.csv  \n",
            "  inflating: /content_1/data/retail-data/by-day/2010-12-08.csv  \n",
            "  inflating: /content_1/__MACOSX/data/retail-data/by-day/._2010-12-08.csv  \n",
            "  inflating: /content_1/data/retail-data/by-day/2011-11-06.csv  \n",
            "  inflating: /content_1/__MACOSX/data/retail-data/by-day/._2011-11-06.csv  \n",
            "  inflating: /content_1/data/retail-data/by-day/2011-01-17.csv  \n",
            "  inflating: /content_1/__MACOSX/data/retail-data/by-day/._2011-01-17.csv  \n",
            "  inflating: /content_1/data/retail-data/by-day/2011-06-22.csv  \n",
            "  inflating: /content_1/__MACOSX/data/retail-data/by-day/._2011-06-22.csv  \n",
            "  inflating: /content_1/data/retail-data/by-day/2011-06-23.csv  \n",
            "  inflating: /content_1/__MACOSX/data/retail-data/by-day/._2011-06-23.csv  \n",
            "  inflating: /content_1/data/retail-data/by-day/2011-01-16.csv  \n",
            "  inflating: /content_1/__MACOSX/data/retail-data/by-day/._2011-01-16.csv  \n",
            "  inflating: /content_1/data/retail-data/by-day/2011-08-26.csv  \n",
            "  inflating: /content_1/__MACOSX/data/retail-data/by-day/._2011-08-26.csv  \n",
            "  inflating: /content_1/data/retail-data/by-day/2011-11-07.csv  \n",
            "  inflating: /content_1/__MACOSX/data/retail-data/by-day/._2011-11-07.csv  \n",
            "  inflating: /content_1/data/retail-data/by-day/2011-11-13.csv  \n",
            "  inflating: /content_1/__MACOSX/data/retail-data/by-day/._2011-11-13.csv  \n",
            "  inflating: /content_1/data/retail-data/by-day/2010-12-09.csv  \n",
            "  inflating: /content_1/__MACOSX/data/retail-data/by-day/._2010-12-09.csv  \n",
            "  inflating: /content_1/data/retail-data/by-day/2010-12-21.csv  \n",
            "  inflating: /content_1/__MACOSX/data/retail-data/by-day/._2010-12-21.csv  \n",
            "  inflating: /content_1/data/retail-data/by-day/2011-04-26.csv  \n",
            "  inflating: /content_1/__MACOSX/data/retail-data/by-day/._2011-04-26.csv  \n",
            "  inflating: /content_1/data/retail-data/by-day/2011-03-13.csv  \n",
            "  inflating: /content_1/__MACOSX/data/retail-data/by-day/._2011-03-13.csv  \n",
            "  inflating: /content_1/data/retail-data/by-day/2011-03-07.csv  \n",
            "  inflating: /content_1/__MACOSX/data/retail-data/by-day/._2011-03-07.csv  \n",
            "  inflating: /content_1/data/retail-data/by-day/2011-10-20.csv  \n",
            "  inflating: /content_1/__MACOSX/data/retail-data/by-day/._2011-10-20.csv  \n",
            "  inflating: /content_1/data/retail-data/by-day/2011-09-15.csv  \n",
            "  inflating: /content_1/__MACOSX/data/retail-data/by-day/._2011-09-15.csv  \n",
            "  inflating: /content_1/data/retail-data/by-day/2011-09-01.csv  \n",
            "  inflating: /content_1/__MACOSX/data/retail-data/by-day/._2011-09-01.csv  \n",
            "  inflating: /content_1/data/retail-data/by-day/2011-09-29.csv  \n",
            "  inflating: /content_1/__MACOSX/data/retail-data/by-day/._2011-09-29.csv  \n",
            "  inflating: /content_1/data/retail-data/by-day/2011-07-04.csv  \n",
            "  inflating: /content_1/__MACOSX/data/retail-data/by-day/._2011-07-04.csv  \n",
            "  inflating: /content_1/data/retail-data/by-day/2011-07-10.csv  \n",
            "  inflating: /content_1/__MACOSX/data/retail-data/by-day/._2011-07-10.csv  \n",
            "  inflating: /content_1/data/retail-data/by-day/2011-02-20.csv  \n",
            "  inflating: /content_1/__MACOSX/data/retail-data/by-day/._2011-02-20.csv  \n",
            "  inflating: /content_1/data/retail-data/by-day/2011-05-29.csv  \n",
            "  inflating: /content_1/__MACOSX/data/retail-data/by-day/._2011-05-29.csv  \n",
            "  inflating: /content_1/data/retail-data/by-day/2011-05-01.csv  \n",
            "  inflating: /content_1/__MACOSX/data/retail-data/by-day/._2011-05-01.csv  \n",
            "  inflating: /content_1/data/retail-data/by-day/2011-02-08.csv  \n",
            "  inflating: /content_1/__MACOSX/data/retail-data/by-day/._2011-02-08.csv  \n",
            "  inflating: /content_1/data/retail-data/by-day/2011-05-15.csv  \n",
            "  inflating: /content_1/__MACOSX/data/retail-data/by-day/._2011-05-15.csv  \n",
            "  inflating: /content_1/data/retail-data/by-day/2011-02-09.csv  \n",
            "  inflating: /content_1/__MACOSX/data/retail-data/by-day/._2011-02-09.csv  \n",
            "  inflating: /content_1/data/retail-data/by-day/2011-02-21.csv  \n",
            "  inflating: /content_1/__MACOSX/data/retail-data/by-day/._2011-02-21.csv  \n",
            "  inflating: /content_1/data/retail-data/by-day/2011-07-11.csv  \n",
            "  inflating: /content_1/__MACOSX/data/retail-data/by-day/._2011-07-11.csv  \n",
            "  inflating: /content_1/data/retail-data/by-day/2011-07-05.csv  \n",
            "  inflating: /content_1/__MACOSX/data/retail-data/by-day/._2011-07-05.csv  \n",
            "  inflating: /content_1/data/retail-data/by-day/2011-09-28.csv  \n",
            "  inflating: /content_1/__MACOSX/data/retail-data/by-day/._2011-09-28.csv  \n",
            "  inflating: /content_1/data/retail-data/by-day/2011-09-14.csv  \n",
            "  inflating: /content_1/__MACOSX/data/retail-data/by-day/._2011-09-14.csv  \n",
            "  inflating: /content_1/data/retail-data/by-day/2011-10-09.csv  \n",
            "  inflating: /content_1/__MACOSX/data/retail-data/by-day/._2011-10-09.csv  \n",
            "  inflating: /content_1/data/retail-data/by-day/2011-10-21.csv  \n",
            "  inflating: /content_1/__MACOSX/data/retail-data/by-day/._2011-10-21.csv  \n",
            "  inflating: /content_1/data/retail-data/by-day/2011-10-23.csv  \n",
            "  inflating: /content_1/__MACOSX/data/retail-data/by-day/._2011-10-23.csv  \n",
            "  inflating: /content_1/data/retail-data/by-day/2011-09-02.csv  \n",
            "  inflating: /content_1/__MACOSX/data/retail-data/by-day/._2011-09-02.csv  \n",
            "  inflating: /content_1/data/retail-data/by-day/2011-09-16.csv  \n",
            "  inflating: /content_1/__MACOSX/data/retail-data/by-day/._2011-09-16.csv  \n",
            "  inflating: /content_1/data/retail-data/by-day/2011-07-13.csv  \n",
            "  inflating: /content_1/__MACOSX/data/retail-data/by-day/._2011-07-13.csv  \n",
            "  inflating: /content_1/data/retail-data/by-day/2011-07-07.csv  \n",
            "  inflating: /content_1/__MACOSX/data/retail-data/by-day/._2011-07-07.csv  \n",
            "  inflating: /content_1/data/retail-data/by-day/2011-02-23.csv  \n",
            "  inflating: /content_1/__MACOSX/data/retail-data/by-day/._2011-02-23.csv  \n",
            "  inflating: /content_1/data/retail-data/by-day/2011-05-16.csv  \n",
            "  inflating: /content_1/__MACOSX/data/retail-data/by-day/._2011-05-16.csv  \n",
            "  inflating: /content_1/data/retail-data/by-day/2011-05-03.csv  \n",
            "  inflating: /content_1/__MACOSX/data/retail-data/by-day/._2011-05-03.csv  \n",
            "  inflating: /content_1/data/retail-data/by-day/2011-05-17.csv  \n",
            "  inflating: /content_1/__MACOSX/data/retail-data/by-day/._2011-05-17.csv  \n",
            "  inflating: /content_1/data/retail-data/by-day/2011-02-22.csv  \n",
            "  inflating: /content_1/__MACOSX/data/retail-data/by-day/._2011-02-22.csv  \n",
            "  inflating: /content_1/data/retail-data/by-day/2011-07-06.csv  \n",
            "  inflating: /content_1/__MACOSX/data/retail-data/by-day/._2011-07-06.csv  \n",
            "  inflating: /content_1/data/retail-data/by-day/2011-07-12.csv  \n",
            "  inflating: /content_1/__MACOSX/data/retail-data/by-day/._2011-07-12.csv  \n",
            "  inflating: /content_1/data/retail-data/by-day/2011-10-26.csv  \n",
            "  inflating: /content_1/__MACOSX/data/retail-data/by-day/._2011-10-26.csv  \n",
            "  inflating: /content_1/data/retail-data/by-day/2011-09-07.csv  \n",
            "  inflating: /content_1/__MACOSX/data/retail-data/by-day/._2011-09-07.csv  \n",
            "  inflating: /content_1/data/retail-data/by-day/2011-09-13.csv  \n",
            "  inflating: /content_1/__MACOSX/data/retail-data/by-day/._2011-09-13.csv  \n",
            "  inflating: /content_1/data/retail-data/by-day/2011-05-13.csv  \n",
            "  inflating: /content_1/__MACOSX/data/retail-data/by-day/._2011-05-13.csv  \n",
            "  inflating: /content_1/data/retail-data/by-day/2011-02-27.csv  \n",
            "  inflating: /content_1/__MACOSX/data/retail-data/by-day/._2011-02-27.csv  \n",
            "  inflating: /content_1/data/retail-data/by-day/2011-05-06.csv  \n",
            "  inflating: /content_1/__MACOSX/data/retail-data/by-day/._2011-05-06.csv  \n",
            "  inflating: /content_1/data/retail-data/by-day/2011-05-12.csv  \n",
            "  inflating: /content_1/__MACOSX/data/retail-data/by-day/._2011-05-12.csv  \n",
            "  inflating: /content_1/data/retail-data/by-day/2011-09-12.csv  \n",
            "  inflating: /content_1/__MACOSX/data/retail-data/by-day/._2011-09-12.csv  \n",
            "  inflating: /content_1/data/retail-data/by-day/2011-09-06.csv  \n",
            "  inflating: /content_1/__MACOSX/data/retail-data/by-day/._2011-09-06.csv  \n",
            "  inflating: /content_1/data/retail-data/by-day/2011-07-03.csv  \n",
            "  inflating: /content_1/__MACOSX/data/retail-data/by-day/._2011-07-03.csv  \n",
            "  inflating: /content_1/data/retail-data/by-day/2011-07-17.csv  \n",
            "  inflating: /content_1/__MACOSX/data/retail-data/by-day/._2011-07-17.csv  \n",
            "  inflating: /content_1/data/retail-data/by-day/2011-10-27.csv  \n",
            "  inflating: /content_1/__MACOSX/data/retail-data/by-day/._2011-10-27.csv  \n",
            "  inflating: /content_1/data/retail-data/by-day/2011-10-19.csv  \n",
            "  inflating: /content_1/__MACOSX/data/retail-data/by-day/._2011-10-19.csv  \n",
            "  inflating: /content_1/data/retail-data/by-day/2011-10-25.csv  \n",
            "  inflating: /content_1/__MACOSX/data/retail-data/by-day/._2011-10-25.csv  \n",
            "  inflating: /content_1/data/retail-data/by-day/2011-10-31.csv  \n",
            "  inflating: /content_1/__MACOSX/data/retail-data/by-day/._2011-10-31.csv  \n",
            "  inflating: /content_1/data/retail-data/by-day/2011-07-01.csv  \n",
            "  inflating: /content_1/__MACOSX/data/retail-data/by-day/._2011-07-01.csv  \n",
            "  inflating: /content_1/data/retail-data/by-day/2011-07-15.csv  \n",
            "  inflating: /content_1/__MACOSX/data/retail-data/by-day/._2011-07-15.csv  \n",
            "  inflating: /content_1/data/retail-data/by-day/2011-09-04.csv  \n",
            "  inflating: /content_1/__MACOSX/data/retail-data/by-day/._2011-09-04.csv  \n",
            "  inflating: /content_1/data/retail-data/by-day/2011-07-29.csv  \n",
            "  inflating: /content_1/__MACOSX/data/retail-data/by-day/._2011-07-29.csv  \n",
            "  inflating: /content_1/data/retail-data/by-day/2011-05-04.csv  \n",
            "  inflating: /content_1/__MACOSX/data/retail-data/by-day/._2011-05-04.csv  \n",
            "  inflating: /content_1/data/retail-data/by-day/2011-05-10.csv  \n",
            "  inflating: /content_1/__MACOSX/data/retail-data/by-day/._2011-05-10.csv  \n",
            "  inflating: /content_1/data/retail-data/by-day/2011-02-25.csv  \n",
            "  inflating: /content_1/__MACOSX/data/retail-data/by-day/._2011-02-25.csv  \n",
            "  inflating: /content_1/data/retail-data/by-day/2011-12-08.csv  \n",
            "  inflating: /content_1/__MACOSX/data/retail-data/by-day/._2011-12-08.csv  \n",
            "  inflating: /content_1/data/retail-data/by-day/2011-12-09.csv  \n",
            "  inflating: /content_1/__MACOSX/data/retail-data/by-day/._2011-12-09.csv  \n",
            "  inflating: /content_1/data/retail-data/by-day/2011-02-24.csv  \n",
            "  inflating: /content_1/__MACOSX/data/retail-data/by-day/._2011-02-24.csv  \n",
            "  inflating: /content_1/data/retail-data/by-day/2011-05-11.csv  \n",
            "  inflating: /content_1/__MACOSX/data/retail-data/by-day/._2011-05-11.csv  \n",
            "  inflating: /content_1/data/retail-data/by-day/2011-02-18.csv  \n",
            "  inflating: /content_1/__MACOSX/data/retail-data/by-day/._2011-02-18.csv  \n",
            "  inflating: /content_1/data/retail-data/by-day/2011-05-05.csv  \n",
            "  inflating: /content_1/__MACOSX/data/retail-data/by-day/._2011-05-05.csv  \n",
            "  inflating: /content_1/data/retail-data/by-day/2011-07-28.csv  \n",
            "  inflating: /content_1/__MACOSX/data/retail-data/by-day/._2011-07-28.csv  \n",
            "  inflating: /content_1/data/retail-data/by-day/2011-09-05.csv  \n",
            "  inflating: /content_1/__MACOSX/data/retail-data/by-day/._2011-09-05.csv  \n",
            "  inflating: /content_1/data/retail-data/by-day/2011-09-11.csv  \n",
            "  inflating: /content_1/__MACOSX/data/retail-data/by-day/._2011-09-11.csv  \n",
            "  inflating: /content_1/data/retail-data/by-day/2011-07-14.csv  \n",
            "  inflating: /content_1/__MACOSX/data/retail-data/by-day/._2011-07-14.csv  \n",
            "  inflating: /content_1/data/retail-data/by-day/2011-10-30.csv  \n",
            "  inflating: /content_1/__MACOSX/data/retail-data/by-day/._2011-10-30.csv  \n",
            "  inflating: /content_1/data/retail-data/by-day/2011-10-24.csv  \n",
            "  inflating: /content_1/__MACOSX/data/retail-data/by-day/._2011-10-24.csv  \n",
            "  inflating: /content_1/data/retail-data/by-day/2011-10-18.csv  \n",
            "  inflating: /content_1/__MACOSX/data/retail-data/by-day/._2011-10-18.csv  \n",
            "  inflating: /content_1/data/retail-data/by-day/2011-07-19.csv  \n",
            "  inflating: /content_1/__MACOSX/data/retail-data/by-day/._2011-07-19.csv  \n",
            "  inflating: /content_1/data/retail-data/by-day/2011-09-20.csv  \n",
            "  inflating: /content_1/__MACOSX/data/retail-data/by-day/._2011-09-20.csv  \n",
            "  inflating: /content_1/data/retail-data/by-day/2011-09-08.csv  \n",
            "  inflating: /content_1/__MACOSX/data/retail-data/by-day/._2011-09-08.csv  \n",
            "  inflating: /content_1/data/retail-data/by-day/2011-07-25.csv  \n",
            "  inflating: /content_1/__MACOSX/data/retail-data/by-day/._2011-07-25.csv  \n",
            "  inflating: /content_1/data/retail-data/by-day/2011-07-31.csv  \n",
            "  inflating: /content_1/__MACOSX/data/retail-data/by-day/._2011-07-31.csv  \n",
            "  inflating: /content_1/data/retail-data/by-day/2011-02-15.csv  \n",
            "  inflating: /content_1/__MACOSX/data/retail-data/by-day/._2011-02-15.csv  \n",
            "  inflating: /content_1/data/retail-data/by-day/2011-02-01.csv  \n",
            "  inflating: /content_1/__MACOSX/data/retail-data/by-day/._2011-02-01.csv  \n",
            "  inflating: /content_1/data/retail-data/by-day/2011-05-08.csv  \n",
            "  inflating: /content_1/__MACOSX/data/retail-data/by-day/._2011-05-08.csv  \n",
            "  inflating: /content_1/data/retail-data/by-day/2011-05-20.csv  \n",
            "  inflating: /content_1/__MACOSX/data/retail-data/by-day/._2011-05-20.csv  \n",
            "  inflating: /content_1/data/retail-data/by-day/2011-12-04.csv  \n",
            "  inflating: /content_1/__MACOSX/data/retail-data/by-day/._2011-12-04.csv  \n",
            "  inflating: /content_1/data/retail-data/by-day/2011-12-05.csv  \n",
            "  inflating: /content_1/__MACOSX/data/retail-data/by-day/._2011-12-05.csv  \n",
            "  inflating: /content_1/data/retail-data/by-day/2011-02-28.csv  \n",
            "  inflating: /content_1/__MACOSX/data/retail-data/by-day/._2011-02-28.csv  \n",
            "  inflating: /content_1/data/retail-data/by-day/2011-05-09.csv  \n",
            "  inflating: /content_1/__MACOSX/data/retail-data/by-day/._2011-05-09.csv  \n",
            "  inflating: /content_1/data/retail-data/by-day/2011-02-14.csv  \n",
            "  inflating: /content_1/__MACOSX/data/retail-data/by-day/._2011-02-14.csv  \n",
            "  inflating: /content_1/data/retail-data/by-day/2011-07-24.csv  \n",
            "  inflating: /content_1/__MACOSX/data/retail-data/by-day/._2011-07-24.csv  \n",
            "  inflating: /content_1/data/retail-data/by-day/2011-09-09.csv  \n",
            "  inflating: /content_1/__MACOSX/data/retail-data/by-day/._2011-09-09.csv  \n",
            "  inflating: /content_1/data/retail-data/by-day/2011-09-21.csv  \n",
            "  inflating: /content_1/__MACOSX/data/retail-data/by-day/._2011-09-21.csv  \n",
            "  inflating: /content_1/data/retail-data/by-day/2011-07-18.csv  \n",
            "  inflating: /content_1/__MACOSX/data/retail-data/by-day/._2011-07-18.csv  \n",
            "  inflating: /content_1/data/retail-data/by-day/2011-10-28.csv  \n",
            "  inflating: /content_1/__MACOSX/data/retail-data/by-day/._2011-10-28.csv  \n",
            "  inflating: /content_1/data/retail-data/by-day/2011-10-14.csv  \n",
            "  inflating: /content_1/__MACOSX/data/retail-data/by-day/._2011-10-14.csv  \n",
            "  inflating: /content_1/data/retail-data/by-day/2011-10-16.csv  \n",
            "  inflating: /content_1/__MACOSX/data/retail-data/by-day/._2011-10-16.csv  \n",
            "  inflating: /content_1/data/retail-data/by-day/2011-10-02.csv  \n",
            "  inflating: /content_1/__MACOSX/data/retail-data/by-day/._2011-10-02.csv  \n",
            "  inflating: /content_1/data/retail-data/by-day/2011-09-23.csv  \n",
            "  inflating: /content_1/__MACOSX/data/retail-data/by-day/._2011-09-23.csv  \n",
            "  inflating: /content_1/data/retail-data/by-day/2011-07-26.csv  \n",
            "  inflating: /content_1/__MACOSX/data/retail-data/by-day/._2011-07-26.csv  \n",
            "  inflating: /content_1/data/retail-data/by-day/2011-02-02.csv  \n",
            "  inflating: /content_1/__MACOSX/data/retail-data/by-day/._2011-02-02.csv  \n",
            "  inflating: /content_1/data/retail-data/by-day/2011-02-16.csv  \n",
            "  inflating: /content_1/__MACOSX/data/retail-data/by-day/._2011-02-16.csv  \n",
            "  inflating: /content_1/data/retail-data/by-day/2011-05-23.csv  \n",
            "  inflating: /content_1/__MACOSX/data/retail-data/by-day/._2011-05-23.csv  \n",
            "  inflating: /content_1/data/retail-data/by-day/2011-12-07.csv  \n",
            "  inflating: /content_1/__MACOSX/data/retail-data/by-day/._2011-12-07.csv  \n",
            "  inflating: /content_1/data/retail-data/by-day/2011-12-06.csv  \n",
            "  inflating: /content_1/__MACOSX/data/retail-data/by-day/._2011-12-06.csv  \n",
            "  inflating: /content_1/data/retail-data/by-day/2011-05-22.csv  \n",
            "  inflating: /content_1/__MACOSX/data/retail-data/by-day/._2011-05-22.csv  \n",
            "  inflating: /content_1/data/retail-data/by-day/2011-02-17.csv  \n",
            "  inflating: /content_1/__MACOSX/data/retail-data/by-day/._2011-02-17.csv  \n",
            "  inflating: /content_1/data/retail-data/by-day/2011-02-03.csv  \n",
            "  inflating: /content_1/__MACOSX/data/retail-data/by-day/._2011-02-03.csv  \n",
            "  inflating: /content_1/data/retail-data/by-day/2011-07-27.csv  \n",
            "  inflating: /content_1/__MACOSX/data/retail-data/by-day/._2011-07-27.csv  \n",
            "  inflating: /content_1/data/retail-data/by-day/2011-09-22.csv  \n",
            "  inflating: /content_1/__MACOSX/data/retail-data/by-day/._2011-09-22.csv  \n",
            "  inflating: /content_1/data/retail-data/by-day/2011-10-03.csv  \n",
            "  inflating: /content_1/__MACOSX/data/retail-data/by-day/._2011-10-03.csv  \n",
            "  inflating: /content_1/data/retail-data/by-day/2011-10-17.csv  \n",
            "  inflating: /content_1/__MACOSX/data/retail-data/by-day/._2011-10-17.csv  \n",
            "  inflating: /content_1/data/retail-data/by-day/2011-10-13.csv  \n",
            "  inflating: /content_1/__MACOSX/data/retail-data/by-day/._2011-10-13.csv  \n",
            "  inflating: /content_1/data/retail-data/by-day/2011-10-07.csv  \n",
            "  inflating: /content_1/__MACOSX/data/retail-data/by-day/._2011-10-07.csv  \n",
            "  inflating: /content_1/data/retail-data/by-day/2011-09-26.csv  \n",
            "  inflating: /content_1/__MACOSX/data/retail-data/by-day/._2011-09-26.csv  \n",
            "  inflating: /content_1/data/retail-data/by-day/2011-05-26.csv  \n",
            "  inflating: /content_1/__MACOSX/data/retail-data/by-day/._2011-05-26.csv  \n",
            "  inflating: /content_1/data/retail-data/by-day/2011-02-07.csv  \n",
            "  inflating: /content_1/__MACOSX/data/retail-data/by-day/._2011-02-07.csv  \n",
            "  inflating: /content_1/data/retail-data/by-day/2011-02-13.csv  \n",
            "  inflating: /content_1/__MACOSX/data/retail-data/by-day/._2011-02-13.csv  \n",
            "  inflating: /content_1/data/retail-data/by-day/2011-12-02.csv  \n",
            "  inflating: /content_1/__MACOSX/data/retail-data/by-day/._2011-12-02.csv  \n",
            "  inflating: /content_1/data/retail-data/by-day/2011-02-06.csv  \n",
            "  inflating: /content_1/__MACOSX/data/retail-data/by-day/._2011-02-06.csv  \n",
            "  inflating: /content_1/data/retail-data/by-day/2011-05-27.csv  \n",
            "  inflating: /content_1/__MACOSX/data/retail-data/by-day/._2011-05-27.csv  \n",
            "  inflating: /content_1/data/retail-data/by-day/2011-09-27.csv  \n",
            "  inflating: /content_1/__MACOSX/data/retail-data/by-day/._2011-09-27.csv  \n",
            "  inflating: /content_1/data/retail-data/by-day/2011-07-22.csv  \n",
            "  inflating: /content_1/__MACOSX/data/retail-data/by-day/._2011-07-22.csv  \n",
            "  inflating: /content_1/data/retail-data/by-day/2011-10-06.csv  \n",
            "  inflating: /content_1/__MACOSX/data/retail-data/by-day/._2011-10-06.csv  \n",
            "  inflating: /content_1/data/retail-data/by-day/2011-10-12.csv  \n",
            "  inflating: /content_1/__MACOSX/data/retail-data/by-day/._2011-10-12.csv  \n",
            "  inflating: /content_1/data/retail-data/by-day/2011-10-04.csv  \n",
            "  inflating: /content_1/__MACOSX/data/retail-data/by-day/._2011-10-04.csv  \n",
            "  inflating: /content_1/data/retail-data/by-day/2011-10-10.csv  \n",
            "  inflating: /content_1/__MACOSX/data/retail-data/by-day/._2011-10-10.csv  \n",
            "  inflating: /content_1/data/retail-data/by-day/2011-07-20.csv  \n",
            "  inflating: /content_1/__MACOSX/data/retail-data/by-day/._2011-07-20.csv  \n",
            "  inflating: /content_1/data/retail-data/by-day/2011-09-19.csv  \n",
            "  inflating: /content_1/__MACOSX/data/retail-data/by-day/._2011-09-19.csv  \n",
            "  inflating: /content_1/data/retail-data/by-day/2011-09-25.csv  \n",
            "  inflating: /content_1/__MACOSX/data/retail-data/by-day/._2011-09-25.csv  \n",
            "  inflating: /content_1/data/retail-data/by-day/2011-07-08.csv  \n",
            "  inflating: /content_1/__MACOSX/data/retail-data/by-day/._2011-07-08.csv  \n",
            "  inflating: /content_1/data/retail-data/by-day/2011-05-25.csv  \n",
            "  inflating: /content_1/__MACOSX/data/retail-data/by-day/._2011-05-25.csv  \n",
            "  inflating: /content_1/data/retail-data/by-day/2011-05-31.csv  \n",
            "  inflating: /content_1/__MACOSX/data/retail-data/by-day/._2011-05-31.csv  \n",
            "  inflating: /content_1/data/retail-data/by-day/2011-02-10.csv  \n",
            "  inflating: /content_1/__MACOSX/data/retail-data/by-day/._2011-02-10.csv  \n",
            "  inflating: /content_1/data/retail-data/by-day/2011-05-19.csv  \n",
            "  inflating: /content_1/__MACOSX/data/retail-data/by-day/._2011-05-19.csv  \n",
            "  inflating: /content_1/data/retail-data/by-day/2011-02-04.csv  \n",
            "  inflating: /content_1/__MACOSX/data/retail-data/by-day/._2011-02-04.csv  \n",
            "  inflating: /content_1/data/retail-data/by-day/2011-12-01.csv  \n",
            "  inflating: /content_1/__MACOSX/data/retail-data/by-day/._2011-12-01.csv  \n",
            "  inflating: /content_1/data/retail-data/by-day/2011-02-11.csv  \n",
            "  inflating: /content_1/__MACOSX/data/retail-data/by-day/._2011-02-11.csv  \n",
            "  inflating: /content_1/data/retail-data/by-day/2011-05-18.csv  \n",
            "  inflating: /content_1/__MACOSX/data/retail-data/by-day/._2011-05-18.csv  \n",
            "  inflating: /content_1/data/retail-data/by-day/2011-05-24.csv  \n",
            "  inflating: /content_1/__MACOSX/data/retail-data/by-day/._2011-05-24.csv  \n",
            "  inflating: /content_1/data/retail-data/by-day/2011-09-30.csv  \n",
            "  inflating: /content_1/__MACOSX/data/retail-data/by-day/._2011-09-30.csv  \n",
            "  inflating: /content_1/data/retail-data/by-day/2011-09-18.csv  \n",
            "  inflating: /content_1/__MACOSX/data/retail-data/by-day/._2011-09-18.csv  \n",
            "  inflating: /content_1/data/retail-data/by-day/2011-07-21.csv  \n",
            "  inflating: /content_1/__MACOSX/data/retail-data/by-day/._2011-07-21.csv  \n",
            "  inflating: /content_1/data/retail-data/by-day/2011-10-11.csv  \n",
            "  inflating: /content_1/__MACOSX/data/retail-data/by-day/._2011-10-11.csv  \n",
            "  inflating: /content_1/data/retail-data/by-day/2011-10-05.csv  \n",
            "  inflating: /content_1/__MACOSX/data/retail-data/by-day/._2011-10-05.csv  \n",
            "  inflating: /content_1/data/retail-data/by-day/2011-04-17.csv  \n",
            "  inflating: /content_1/__MACOSX/data/retail-data/by-day/._2011-04-17.csv  \n",
            "  inflating: /content_1/data/retail-data/by-day/2011-04-03.csv  \n",
            "  inflating: /content_1/__MACOSX/data/retail-data/by-day/._2011-04-03.csv  \n",
            "  inflating: /content_1/data/retail-data/by-day/2011-03-22.csv  \n",
            "  inflating: /content_1/__MACOSX/data/retail-data/by-day/._2011-03-22.csv  \n",
            "  inflating: /content_1/data/retail-data/by-day/2010-12-10.csv  \n",
            "  inflating: /content_1/__MACOSX/data/retail-data/by-day/._2010-12-10.csv  \n",
            "  inflating: /content_1/data/retail-data/by-day/2011-11-22.csv  \n",
            "  inflating: /content_1/__MACOSX/data/retail-data/by-day/._2011-11-22.csv  \n",
            "  inflating: /content_1/data/retail-data/by-day/2011-06-12.csv  \n",
            "  inflating: /content_1/__MACOSX/data/retail-data/by-day/._2011-06-12.csv  \n",
            "  inflating: /content_1/data/retail-data/by-day/2011-06-06.csv  \n",
            "  inflating: /content_1/__MACOSX/data/retail-data/by-day/._2011-06-06.csv  \n",
            "  inflating: /content_1/data/retail-data/by-day/2011-01-27.csv  \n",
            "  inflating: /content_1/__MACOSX/data/retail-data/by-day/._2011-01-27.csv  \n",
            "  inflating: /content_1/data/retail-data/by-day/2011-08-03.csv  \n",
            "  inflating: /content_1/__MACOSX/data/retail-data/by-day/._2011-08-03.csv  \n",
            "  inflating: /content_1/data/retail-data/by-day/2011-08-17.csv  \n",
            "  inflating: /content_1/__MACOSX/data/retail-data/by-day/._2011-08-17.csv  \n",
            "  inflating: /content_1/data/retail-data/by-day/2011-08-16.csv  \n",
            "  inflating: /content_1/__MACOSX/data/retail-data/by-day/._2011-08-16.csv  \n",
            "  inflating: /content_1/data/retail-data/by-day/2011-01-26.csv  \n",
            "  inflating: /content_1/__MACOSX/data/retail-data/by-day/._2011-01-26.csv  \n",
            "  inflating: /content_1/data/retail-data/by-day/2011-08-02.csv  \n",
            "  inflating: /content_1/__MACOSX/data/retail-data/by-day/._2011-08-02.csv  \n",
            "  inflating: /content_1/data/retail-data/by-day/2011-06-07.csv  \n",
            "  inflating: /content_1/__MACOSX/data/retail-data/by-day/._2011-06-07.csv  \n",
            "  inflating: /content_1/data/retail-data/by-day/2011-06-13.csv  \n",
            "  inflating: /content_1/__MACOSX/data/retail-data/by-day/._2011-06-13.csv  \n",
            "  inflating: /content_1/data/retail-data/by-day/2011-11-23.csv  \n",
            "  inflating: /content_1/__MACOSX/data/retail-data/by-day/._2011-11-23.csv  \n",
            "  inflating: /content_1/data/retail-data/by-day/2010-12-05.csv  \n",
            "  inflating: /content_1/__MACOSX/data/retail-data/by-day/._2010-12-05.csv  \n",
            "  inflating: /content_1/data/retail-data/by-day/2011-03-23.csv  \n",
            "  inflating: /content_1/__MACOSX/data/retail-data/by-day/._2011-03-23.csv  \n",
            "  inflating: /content_1/data/retail-data/by-day/2011-03-09.csv  \n",
            "  inflating: /content_1/__MACOSX/data/retail-data/by-day/._2011-03-09.csv  \n",
            "  inflating: /content_1/data/retail-data/by-day/2011-04-14.csv  \n",
            "  inflating: /content_1/__MACOSX/data/retail-data/by-day/._2011-04-14.csv  \n",
            "  inflating: /content_1/data/retail-data/by-day/2011-03-21.csv  \n",
            "  inflating: /content_1/__MACOSX/data/retail-data/by-day/._2011-03-21.csv  \n",
            "  inflating: /content_1/data/retail-data/by-day/2011-04-28.csv  \n",
            "  inflating: /content_1/__MACOSX/data/retail-data/by-day/._2011-04-28.csv  \n",
            "  inflating: /content_1/data/retail-data/by-day/2010-12-13.csv  \n",
            "  inflating: /content_1/__MACOSX/data/retail-data/by-day/._2010-12-13.csv  \n",
            "  inflating: /content_1/data/retail-data/by-day/2010-12-07.csv  \n",
            "  inflating: /content_1/__MACOSX/data/retail-data/by-day/._2010-12-07.csv  \n",
            "  inflating: /content_1/data/retail-data/by-day/2011-11-09.csv  \n",
            "  inflating: /content_1/__MACOSX/data/retail-data/by-day/._2011-11-09.csv  \n",
            "  inflating: /content_1/data/retail-data/by-day/2011-11-21.csv  \n",
            "  inflating: /content_1/__MACOSX/data/retail-data/by-day/._2011-11-21.csv  \n",
            "  inflating: /content_1/data/retail-data/by-day/2011-06-05.csv  \n",
            "  inflating: /content_1/__MACOSX/data/retail-data/by-day/._2011-06-05.csv  \n",
            "  inflating: /content_1/data/retail-data/by-day/2011-08-28.csv  \n",
            "  inflating: /content_1/__MACOSX/data/retail-data/by-day/._2011-08-28.csv  \n",
            "  inflating: /content_1/data/retail-data/by-day/2011-01-18.csv  \n",
            "  inflating: /content_1/__MACOSX/data/retail-data/by-day/._2011-01-18.csv  \n",
            "  inflating: /content_1/data/retail-data/by-day/2011-01-30.csv  \n",
            "  inflating: /content_1/__MACOSX/data/retail-data/by-day/._2011-01-30.csv  \n",
            "  inflating: /content_1/data/retail-data/by-day/2011-08-14.csv  \n",
            "  inflating: /content_1/__MACOSX/data/retail-data/by-day/._2011-08-14.csv  \n",
            "  inflating: /content_1/data/retail-data/by-day/2011-01-24.csv  \n",
            "  inflating: /content_1/__MACOSX/data/retail-data/by-day/._2011-01-24.csv  \n",
            "  inflating: /content_1/data/retail-data/by-day/2011-08-01.csv  \n",
            "  inflating: /content_1/__MACOSX/data/retail-data/by-day/._2011-08-01.csv  \n",
            "  inflating: /content_1/data/retail-data/by-day/2011-01-25.csv  \n",
            "  inflating: /content_1/__MACOSX/data/retail-data/by-day/._2011-01-25.csv  \n",
            "  inflating: /content_1/data/retail-data/by-day/2011-01-31.csv  \n",
            "  inflating: /content_1/__MACOSX/data/retail-data/by-day/._2011-01-31.csv  \n",
            "  inflating: /content_1/data/retail-data/by-day/2011-08-15.csv  \n",
            "  inflating: /content_1/__MACOSX/data/retail-data/by-day/._2011-08-15.csv  \n",
            "  inflating: /content_1/data/retail-data/by-day/2011-06-10.csv  \n",
            "  inflating: /content_1/__MACOSX/data/retail-data/by-day/._2011-06-10.csv  \n",
            "  inflating: /content_1/data/retail-data/by-day/2011-01-19.csv  \n",
            "  inflating: /content_1/__MACOSX/data/retail-data/by-day/._2011-01-19.csv  \n",
            "  inflating: /content_1/data/retail-data/by-day/2011-11-20.csv  \n",
            "  inflating: /content_1/__MACOSX/data/retail-data/by-day/._2011-11-20.csv  \n",
            "  inflating: /content_1/data/retail-data/by-day/2011-11-08.csv  \n",
            "  inflating: /content_1/__MACOSX/data/retail-data/by-day/._2011-11-08.csv  \n",
            "  inflating: /content_1/data/retail-data/by-day/2010-12-06.csv  \n",
            "  inflating: /content_1/__MACOSX/data/retail-data/by-day/._2010-12-06.csv  \n",
            "  inflating: /content_1/data/retail-data/by-day/2010-12-12.csv  \n",
            "  inflating: /content_1/__MACOSX/data/retail-data/by-day/._2010-12-12.csv  \n",
            "  inflating: /content_1/data/retail-data/by-day/2011-03-20.csv  \n",
            "  inflating: /content_1/__MACOSX/data/retail-data/by-day/._2011-03-20.csv  \n",
            "  inflating: /content_1/data/retail-data/by-day/2011-04-15.csv  \n",
            "  inflating: /content_1/__MACOSX/data/retail-data/by-day/._2011-04-15.csv  \n",
            "  inflating: /content_1/data/retail-data/by-day/2011-04-01.csv  \n",
            "  inflating: /content_1/__MACOSX/data/retail-data/by-day/._2011-04-01.csv  \n",
            "  inflating: /content_1/data/retail-data/by-day/2011-03-08.csv  \n",
            "  inflating: /content_1/__MACOSX/data/retail-data/by-day/._2011-03-08.csv  \n",
            "  inflating: /content_1/data/retail-data/by-day/2011-03-30.csv  \n",
            "  inflating: /content_1/__MACOSX/data/retail-data/by-day/._2011-03-30.csv  \n",
            "  inflating: /content_1/data/retail-data/by-day/2011-03-24.csv  \n",
            "  inflating: /content_1/__MACOSX/data/retail-data/by-day/._2011-03-24.csv  \n",
            "  inflating: /content_1/data/retail-data/by-day/2011-04-05.csv  \n",
            "  inflating: /content_1/__MACOSX/data/retail-data/by-day/._2011-04-05.csv  \n",
            "  inflating: /content_1/data/retail-data/by-day/2011-04-11.csv  \n",
            "  inflating: /content_1/__MACOSX/data/retail-data/by-day/._2011-04-11.csv  \n",
            "  inflating: /content_1/data/retail-data/by-day/2011-03-18.csv  \n",
            "  inflating: /content_1/__MACOSX/data/retail-data/by-day/._2011-03-18.csv  \n",
            "  inflating: /content_1/data/retail-data/by-day/2010-12-16.csv  \n",
            "  inflating: /content_1/__MACOSX/data/retail-data/by-day/._2010-12-16.csv  \n",
            "  inflating: /content_1/data/retail-data/by-day/2010-12-02.csv  \n",
            "  inflating: /content_1/__MACOSX/data/retail-data/by-day/._2010-12-02.csv  \n",
            "  inflating: /content_1/data/retail-data/by-day/2011-11-24.csv  \n",
            "  inflating: /content_1/__MACOSX/data/retail-data/by-day/._2011-11-24.csv  \n",
            "  inflating: /content_1/data/retail-data/by-day/2011-11-30.csv  \n",
            "  inflating: /content_1/__MACOSX/data/retail-data/by-day/._2011-11-30.csv  \n",
            "  inflating: /content_1/data/retail-data/by-day/2011-11-18.csv  \n",
            "  inflating: /content_1/__MACOSX/data/retail-data/by-day/._2011-11-18.csv  \n",
            "  inflating: /content_1/data/retail-data/by-day/2011-08-11.csv  \n",
            "  inflating: /content_1/__MACOSX/data/retail-data/by-day/._2011-08-11.csv  \n",
            "  inflating: /content_1/data/retail-data/by-day/2011-01-21.csv  \n",
            "  inflating: /content_1/__MACOSX/data/retail-data/by-day/._2011-01-21.csv  \n",
            "  inflating: /content_1/data/retail-data/by-day/2011-06-28.csv  \n",
            "  inflating: /content_1/__MACOSX/data/retail-data/by-day/._2011-06-28.csv  \n",
            "  inflating: /content_1/data/retail-data/by-day/2011-08-05.csv  \n",
            "  inflating: /content_1/__MACOSX/data/retail-data/by-day/._2011-08-05.csv  \n",
            "  inflating: /content_1/data/retail-data/by-day/2011-01-09.csv  \n",
            "  inflating: /content_1/__MACOSX/data/retail-data/by-day/._2011-01-09.csv  \n",
            "  inflating: /content_1/data/retail-data/by-day/2011-06-14.csv  \n",
            "  inflating: /content_1/__MACOSX/data/retail-data/by-day/._2011-06-14.csv  \n",
            "  inflating: /content_1/data/retail-data/by-day/2011-06-15.csv  \n",
            "  inflating: /content_1/__MACOSX/data/retail-data/by-day/._2011-06-15.csv  \n",
            "  inflating: /content_1/data/retail-data/by-day/2011-06-01.csv  \n",
            "  inflating: /content_1/__MACOSX/data/retail-data/by-day/._2011-06-01.csv  \n",
            "  inflating: /content_1/data/retail-data/by-day/2011-01-20.csv  \n",
            "  inflating: /content_1/__MACOSX/data/retail-data/by-day/._2011-01-20.csv  \n",
            "  inflating: /content_1/data/retail-data/by-day/2011-08-04.csv  \n",
            "  inflating: /content_1/__MACOSX/data/retail-data/by-day/._2011-08-04.csv  \n",
            "  inflating: /content_1/data/retail-data/by-day/2011-06-29.csv  \n",
            "  inflating: /content_1/__MACOSX/data/retail-data/by-day/._2011-06-29.csv  \n",
            "  inflating: /content_1/data/retail-data/by-day/2011-08-10.csv  \n",
            "  inflating: /content_1/__MACOSX/data/retail-data/by-day/._2011-08-10.csv  \n",
            "  inflating: /content_1/data/retail-data/by-day/2011-11-25.csv  \n",
            "  inflating: /content_1/__MACOSX/data/retail-data/by-day/._2011-11-25.csv  \n",
            "  inflating: /content_1/data/retail-data/by-day/2010-12-03.csv  \n",
            "  inflating: /content_1/__MACOSX/data/retail-data/by-day/._2010-12-03.csv  \n",
            "  inflating: /content_1/data/retail-data/by-day/2010-12-17.csv  \n",
            "  inflating: /content_1/__MACOSX/data/retail-data/by-day/._2010-12-17.csv  \n",
            "  inflating: /content_1/data/retail-data/by-day/2011-04-10.csv  \n",
            "  inflating: /content_1/__MACOSX/data/retail-data/by-day/._2011-04-10.csv  \n",
            "  inflating: /content_1/data/retail-data/by-day/2011-04-04.csv  \n",
            "  inflating: /content_1/__MACOSX/data/retail-data/by-day/._2011-04-04.csv  \n",
            "  inflating: /content_1/data/retail-data/by-day/2011-03-25.csv  \n",
            "  inflating: /content_1/__MACOSX/data/retail-data/by-day/._2011-03-25.csv  \n",
            "  inflating: /content_1/data/retail-data/by-day/2011-03-31.csv  \n",
            "  inflating: /content_1/__MACOSX/data/retail-data/by-day/._2011-03-31.csv  \n",
            "  inflating: /content_1/data/retail-data/by-day/2011-03-27.csv  \n",
            "  inflating: /content_1/__MACOSX/data/retail-data/by-day/._2011-03-27.csv  \n",
            "  inflating: /content_1/data/retail-data/by-day/2011-04-12.csv  \n",
            "  inflating: /content_1/__MACOSX/data/retail-data/by-day/._2011-04-12.csv  \n",
            "  inflating: /content_1/data/retail-data/by-day/2011-04-06.csv  \n",
            "  inflating: /content_1/__MACOSX/data/retail-data/by-day/._2011-04-06.csv  \n",
            "  inflating: /content_1/data/retail-data/by-day/2010-12-01.csv  \n",
            "  inflating: /content_1/__MACOSX/data/retail-data/by-day/._2010-12-01.csv  \n",
            "  inflating: /content_1/data/retail-data/by-day/2010-12-15.csv  \n",
            "  inflating: /content_1/__MACOSX/data/retail-data/by-day/._2010-12-15.csv  \n",
            "  inflating: /content_1/data/retail-data/by-day/2011-11-27.csv  \n",
            "  inflating: /content_1/__MACOSX/data/retail-data/by-day/._2011-11-27.csv  \n",
            "  inflating: /content_1/data/retail-data/by-day/2011-08-12.csv  \n",
            "  inflating: /content_1/__MACOSX/data/retail-data/by-day/._2011-08-12.csv  \n",
            "  inflating: /content_1/data/retail-data/by-day/2011-06-17.csv  \n",
            "  inflating: /content_1/__MACOSX/data/retail-data/by-day/._2011-06-17.csv  \n",
            "  inflating: /content_1/data/retail-data/by-day/2011-06-03.csv  \n",
            "  inflating: /content_1/__MACOSX/data/retail-data/by-day/._2011-06-03.csv  \n",
            "  inflating: /content_1/data/retail-data/by-day/2011-06-02.csv  \n",
            "  inflating: /content_1/__MACOSX/data/retail-data/by-day/._2011-06-02.csv  \n",
            "  inflating: /content_1/data/retail-data/by-day/2011-06-16.csv  \n",
            "  inflating: /content_1/__MACOSX/data/retail-data/by-day/._2011-06-16.csv  \n",
            "  inflating: /content_1/data/retail-data/by-day/2011-08-07.csv  \n",
            "  inflating: /content_1/__MACOSX/data/retail-data/by-day/._2011-08-07.csv  \n",
            "  inflating: /content_1/data/retail-data/by-day/2011-01-23.csv  \n",
            "  inflating: /content_1/__MACOSX/data/retail-data/by-day/._2011-01-23.csv  \n",
            "  inflating: /content_1/data/retail-data/by-day/2010-12-14.csv  \n",
            "  inflating: /content_1/__MACOSX/data/retail-data/by-day/._2010-12-14.csv  \n",
            "  inflating: /content_1/data/retail-data/by-day/2011-04-07.csv  \n",
            "  inflating: /content_1/__MACOSX/data/retail-data/by-day/._2011-04-07.csv  \n",
            "  inflating: /content_1/data/retail-data/by-day/2011-04-13.csv  \n",
            "  inflating: /content_1/__MACOSX/data/retail-data/by-day/._2011-04-13.csv  \n"
          ]
        }
      ]
    },
    {
      "cell_type": "markdown",
      "metadata": {
        "id": "Z5VtHeq08GY3"
      },
      "source": [
        "# Обработка данных с использованием RDD"
      ]
    },
    {
      "cell_type": "markdown",
      "metadata": {
        "id": "X7lmwzjv8GY3"
      },
      "source": [
        "## Запуск сеанса Spark"
      ]
    },
    {
      "cell_type": "markdown",
      "metadata": {
        "id": "-SbUNIyl8GY3"
      },
      "source": [
        "### Используем PySpark в среде Jupyter Notebook, обеспечивая правильную настройку путей и переменных среды"
      ]
    },
    {
      "cell_type": "markdown",
      "metadata": {
        "id": "UcuQrTmW8GY4"
      },
      "source": [
        "1. **`import findspark`**: Импортируем модуль `findspark`. Модуль `findspark` предназначен для облегчения настройки и использования Apache Spark в среде Python. Он помогает найти путь к установленной версии Spark и добавить его в переменную среды `PYTHONPATH`.\n",
        "\n",
        "2. **`findspark.init()`**: Этот вызов инициализирует модуль `findspark`. Он выполняет следующие действия:\n",
        "    - Ищет установленный Spark.\n",
        "    - Добавляет путь к Spark в переменную среды `PYTHONPATH`.\n",
        "    - Позволяет использовать PySpark без необходимости явно указывать путь к Spark."
      ]
    },
    {
      "cell_type": "code",
      "source": [
        "!pip install pyspark\n",
        "!pip install findspark"
      ],
      "metadata": {
        "colab": {
          "base_uri": "https://localhost:8080/"
        },
        "id": "_Lpy6ZJH-clK",
        "outputId": "0c7e002b-9ba5-4f28-8bf4-dcfba88ddf33"
      },
      "execution_count": 4,
      "outputs": [
        {
          "output_type": "stream",
          "name": "stdout",
          "text": [
            "Collecting pyspark\n",
            "  Downloading pyspark-3.5.1.tar.gz (317.0 MB)\n",
            "\u001b[2K     \u001b[90m━━━━━━━━━━━━━━━━━━━━━━━━━━━━━━━━━━━━━━━━\u001b[0m \u001b[32m317.0/317.0 MB\u001b[0m \u001b[31m3.2 MB/s\u001b[0m eta \u001b[36m0:00:00\u001b[0m\n",
            "\u001b[?25h  Preparing metadata (setup.py) ... \u001b[?25l\u001b[?25hdone\n",
            "Requirement already satisfied: py4j==0.10.9.7 in /usr/local/lib/python3.10/dist-packages (from pyspark) (0.10.9.7)\n",
            "Building wheels for collected packages: pyspark\n",
            "  Building wheel for pyspark (setup.py) ... \u001b[?25l\u001b[?25hdone\n",
            "  Created wheel for pyspark: filename=pyspark-3.5.1-py2.py3-none-any.whl size=317488491 sha256=c6bbeaad09b5a34374d0809af1c18885755525146dc4a4667e2abe2a4e8292d2\n",
            "  Stored in directory: /root/.cache/pip/wheels/80/1d/60/2c256ed38dddce2fdd93be545214a63e02fbd8d74fb0b7f3a6\n",
            "Successfully built pyspark\n",
            "Installing collected packages: pyspark\n",
            "Successfully installed pyspark-3.5.1\n",
            "Collecting findspark\n",
            "  Downloading findspark-2.0.1-py2.py3-none-any.whl (4.4 kB)\n",
            "Installing collected packages: findspark\n",
            "Successfully installed findspark-2.0.1\n"
          ]
        }
      ]
    },
    {
      "cell_type": "code",
      "execution_count": 5,
      "metadata": {
        "id": "7moxrek68GY4"
      },
      "outputs": [],
      "source": [
        "import findspark\n",
        "findspark.init()"
      ]
    },
    {
      "cell_type": "markdown",
      "metadata": {
        "id": "3hh_zmvk8GY4"
      },
      "source": [
        "### Инициализируем Spark-контекст, для начала работы с данными в Spark"
      ]
    },
    {
      "cell_type": "markdown",
      "metadata": {
        "id": "PDon_md-8GY4"
      },
      "source": [
        "Импортируем два класса из библиотеки PySpark:\n",
        "    - `SparkConf`: Этот класс предоставляет возможность настройки параметров конфигурации для вашего Spark-приложения. Вы можете установить различные параметры, такие как название вашего приложения (`setAppName`) и режим запуска (`setMaster`).\n",
        "    - `SparkContext`: Этот класс является основной точкой входа для взаимодействия с кластером Spark. Он устанавливает связь между вашим Spark-приложением и ресурсным менеджером (например, YARN или локальным режимом):"
      ]
    },
    {
      "cell_type": "code",
      "execution_count": 6,
      "metadata": {
        "id": "FQFVNkMs8GY5"
      },
      "outputs": [],
      "source": [
        "from pyspark import SparkConf, SparkContext"
      ]
    },
    {
      "cell_type": "markdown",
      "metadata": {
        "id": "q5SC5phY8GY5"
      },
      "source": [
        "\n",
        "Создаем объект `SparkConf` и устанавливаем два параметра:\n",
        "    - `setMaster(\"local\")`: Этот параметр указывает, что мы запускаем Spark в локальном режиме (на одной машине). В реальном кластере вы бы указали адрес ресурсного менеджера.\n",
        "    - `setAppName(\"Data Analysis\")`: Этот параметр задает имя вашего Spark-приложения.\n",
        "\n",
        "После чего, мы создаем объект `SparkContext`, передавая ему нашу конфигурацию (`conf`). Это позволяет приложению взаимодействовать с кластером Spark."
      ]
    },
    {
      "cell_type": "code",
      "execution_count": 7,
      "metadata": {
        "id": "Jh3YYttu8GY5"
      },
      "outputs": [],
      "source": [
        "conf = SparkConf().setMaster(\"local\").setAppName(\"Data Analysis\")\n",
        "sc = SparkContext(conf = conf)"
      ]
    },
    {
      "cell_type": "markdown",
      "metadata": {
        "id": "CsnijNqp8GY5"
      },
      "source": [
        "Объект `sc` (или **SparkContext**) представляет собой основной интерфейс для взаимодействия с кластером Apache Spark.\n",
        "\n",
        "Давайте рассмотрим, что означает каждая из строк в выводе:\n",
        "\n",
        "1. **Version (Версия)**:  Установленная версия Spark. В данном случае это **v3.0.0**.\n",
        "\n",
        "2. **Master (Мастер)**: Указывает, какой ресурсный менеджер используется для запуска Spark. В нашем случае это **local**, что означает, что Spark работает в локальном режиме. В реальных кластерах здесь может быть адрес ресурсного менеджера, такого как YARN или Mesos.\n",
        "\n",
        "3. **AppName (Имя приложения)**: Это имя, созданного Spark-приложения. В данном случае оно называется **Data Analysis**.\n",
        "\n",
        "**Spark UI** предоставляет информацию о состоянии Spark-приложения, выполненных задачах, использовании ресурсов и других аспектах. Вы можете использовать его для мониторинга и отладки вашего Spark-кода."
      ]
    },
    {
      "cell_type": "code",
      "execution_count": 8,
      "metadata": {
        "id": "24DCJyy_8GY6",
        "outputId": "7eb68da1-d0b1-45f6-ba80-71ae6ffc8660",
        "colab": {
          "base_uri": "https://localhost:8080/",
          "height": 196
        }
      },
      "outputs": [
        {
          "output_type": "execute_result",
          "data": {
            "text/plain": [
              "<SparkContext master=local appName=Data Analysis>"
            ],
            "text/html": [
              "\n",
              "        <div>\n",
              "            <p><b>SparkContext</b></p>\n",
              "\n",
              "            <p><a href=\"http://e9616b06e1c6:4040\">Spark UI</a></p>\n",
              "\n",
              "            <dl>\n",
              "              <dt>Version</dt>\n",
              "                <dd><code>v3.5.1</code></dd>\n",
              "              <dt>Master</dt>\n",
              "                <dd><code>local</code></dd>\n",
              "              <dt>AppName</dt>\n",
              "                <dd><code>Data Analysis</code></dd>\n",
              "            </dl>\n",
              "        </div>\n",
              "        "
            ]
          },
          "metadata": {},
          "execution_count": 8
        }
      ],
      "source": [
        "sc"
      ]
    },
    {
      "cell_type": "markdown",
      "metadata": {
        "id": "jZG2Bnyt8GY7"
      },
      "source": [
        "> *Используем набор данных MovieLens 1M, который можно получить на веб-сайте [Grouplens](https://grouplens.org/datasets/movielens/).*"
      ]
    },
    {
      "cell_type": "code",
      "execution_count": 152,
      "metadata": {
        "id": "_TDXnrj88GY7",
        "outputId": "00c82385-f4ee-4ca9-b275-44bf09d644ab",
        "colab": {
          "base_uri": "https://localhost:8080/"
        }
      },
      "outputs": [
        {
          "output_type": "stream",
          "name": "stdout",
          "text": [
            "1800.csv              Ecommerce_Customers.csv  \u001b[0m\u001b[01;34mretail-data\u001b[0m/\n",
            "2010-12-01.csv        fake_customers.csv       sample_kmeans_data.txt\n",
            "2015-summary.json     fakefriends.csv          sample_libsvm_data.txt\n",
            "\u001b[01;32mBook.txt\u001b[0m*             hack_data.csv            \u001b[01;32msample_linear_regression_data.txt\u001b[0m*\n",
            "College.csv           Meal_Info.csv            seeds_dataset.csv\n",
            "cruise_ship_info.csv  \u001b[01;34mml-1m\u001b[0m/                   seeds_dataset.txt\n",
            "customer_churn.csv    movielens_ratings.csv    \u001b[01;34msmsspamcollection\u001b[0m/\n",
            "dog_food.csv          new_customers.csv        titanic.csv\n"
          ]
        }
      ],
      "source": [
        "ls data/ml-1m"
      ]
    },
    {
      "cell_type": "markdown",
      "metadata": {
        "id": "dt8x2VVQ8GY7"
      },
      "source": [
        "*Давайте прочитаем файл Ratings.dat и создадим RDD рейтингов*"
      ]
    },
    {
      "cell_type": "code",
      "execution_count": 10,
      "metadata": {
        "id": "lkkzt4Kq8GY7"
      },
      "outputs": [],
      "source": [
        "ratingsRDD = sc.textFile(\"data/ml-1m/ratings.dat\")"
      ]
    },
    {
      "cell_type": "code",
      "execution_count": 11,
      "metadata": {
        "id": "c9sxb_xm8GY7",
        "outputId": "c5adc1c1-bb42-4935-8328-92f99fd122f7",
        "colab": {
          "base_uri": "https://localhost:8080/"
        }
      },
      "outputs": [
        {
          "output_type": "execute_result",
          "data": {
            "text/plain": [
              "['1::1193::5::978300760',\n",
              " '1::661::3::978302109',\n",
              " '1::914::3::978301968',\n",
              " '1::3408::4::978300275',\n",
              " '1::2355::5::978824291']"
            ]
          },
          "metadata": {},
          "execution_count": 11
        }
      ],
      "source": [
        "ratingsRDD.take(5)"
      ]
    },
    {
      "cell_type": "markdown",
      "metadata": {
        "id": "5m_9UH9y8GY7"
      },
      "source": [
        "* Мы прочитали текстовый файл и вывели первые 5 строк, используя действие 'take'."
      ]
    },
    {
      "cell_type": "markdown",
      "metadata": {
        "id": "RSp08SWH8GY7"
      },
      "source": [
        "*Теперь, если мы проверим файл readme, указанный в наборе данных, то увидим там следующие подписи столбцов данных:*\n",
        "\n",
        ">*UserID::MovieID::Rating::Timestamp*"
      ]
    },
    {
      "cell_type": "markdown",
      "metadata": {
        "id": "OT_NfY3C8GY8"
      },
      "source": [
        "*Давайте проверим подсчет каждого заданного рейтинга. Но сначала нам нужно разделить наши данные, и для этого нам нужно использовать трансформирование (преобразование).*"
      ]
    },
    {
      "cell_type": "markdown",
      "metadata": {
        "id": "8oeKXgdV8GY8"
      },
      "source": [
        "1. **`ratingsRDD`**: RDD (Resilient Distributed Dataset), содержащий информацию о рейтингах.\n",
        "\n",
        "2. **`map(lambda x: x.split('::')[2])`**:\n",
        "    - `map`: Это операция трансформирования, которая применяет заданную функцию ко всем элементам RDD.\n",
        "    - `lambda x: x.split('::')[2]`: Это анонимная функция (лямбда-функция), которая принимает один аргумент `x`. В данном случае, `x` представляет собой строку (с рейтингами фильмов).\n",
        "    - `x.split('::')`: Это разделение строки `x` по разделителю `'::'`. Например, если `x` была строкой `\"123::4::5\"`, то `x.split('::')` вернет список `[\"123\", \"4\", \"5\"]`.\n",
        "    - `[2]`: Это индекс, который выбирает третий элемент из списка (индексация начинается с 0). В данном случае, это будет третий элемент после разделения строки, то есть рейтинг фильма."
      ]
    },
    {
      "cell_type": "code",
      "execution_count": 12,
      "metadata": {
        "id": "8NPh16lr8GY8"
      },
      "outputs": [],
      "source": [
        "ratings = ratingsRDD.map(lambda x: x.split('::')[2])"
      ]
    },
    {
      "cell_type": "code",
      "execution_count": 13,
      "metadata": {
        "id": "hRneT1J18GY8",
        "outputId": "059e8a2c-217c-4e74-c42b-867efb9c5c05",
        "colab": {
          "base_uri": "https://localhost:8080/"
        }
      },
      "outputs": [
        {
          "output_type": "execute_result",
          "data": {
            "text/plain": [
              "['5', '3', '3', '4', '5']"
            ]
          },
          "metadata": {},
          "execution_count": 13
        }
      ],
      "source": [
        "ratings.take(5)"
      ]
    },
    {
      "cell_type": "markdown",
      "metadata": {
        "id": "IOM9KunC8GY8"
      },
      "source": [
        "- **`countByValue()`**: Этот метод (действие) возвращает словарь, где ключами являются уникальные значения из RDD, а значениями - количество раз, которое каждое уникальное значение встречается в RDD."
      ]
    },
    {
      "cell_type": "code",
      "execution_count": 14,
      "metadata": {
        "id": "giMwqC1b8GY8"
      },
      "outputs": [],
      "source": [
        "result = ratings.countByValue()"
      ]
    },
    {
      "cell_type": "code",
      "execution_count": 15,
      "metadata": {
        "id": "Wn-oFs1f8GY8",
        "outputId": "2e8b37a8-aadf-4e45-9906-ba0880a07425",
        "colab": {
          "base_uri": "https://localhost:8080/"
        }
      },
      "outputs": [
        {
          "output_type": "execute_result",
          "data": {
            "text/plain": [
              "collections.defaultdict"
            ]
          },
          "metadata": {},
          "execution_count": 15
        }
      ],
      "source": [
        "type(result)"
      ]
    },
    {
      "cell_type": "code",
      "execution_count": 16,
      "metadata": {
        "id": "TAVtnCwk8GY8",
        "outputId": "4073e260-fdf0-4be2-c113-327e48c53b38",
        "colab": {
          "base_uri": "https://localhost:8080/"
        }
      },
      "outputs": [
        {
          "output_type": "execute_result",
          "data": {
            "text/plain": [
              "defaultdict(int,\n",
              "            {'5': 226310, '3': 261197, '4': 348971, '2': 107557, '1': 56174})"
            ]
          },
          "metadata": {},
          "execution_count": 16
        }
      ],
      "source": [
        "result"
      ]
    },
    {
      "cell_type": "markdown",
      "metadata": {
        "id": "uoFbJ13A8GY8"
      },
      "source": [
        "*Итак, вы можете видеть, насколько легко было сформировать счетчик рейтингов. Поскольку он вернул словарь, можно отсортировать и распечатать результаты.*"
      ]
    },
    {
      "cell_type": "code",
      "execution_count": 17,
      "metadata": {
        "id": "epYGHJg68GY8",
        "outputId": "7006af3f-be7b-40d9-996b-9addaba24f5b",
        "colab": {
          "base_uri": "https://localhost:8080/"
        }
      },
      "outputs": [
        {
          "output_type": "stream",
          "name": "stdout",
          "text": [
            "Ratings   Count\n",
            "\n",
            "★         56174\n",
            "★★        107557\n",
            "★★★       261197\n",
            "★★★★      348971\n",
            "★★★★★     226310\n"
          ]
        }
      ],
      "source": [
        "import collections\n",
        "sortedResults = collections.OrderedDict(sorted(result.items()))\n",
        "print(f\"{'Ratings':10}{'Count'}\\n\")\n",
        "for key, value in sortedResults.items():\n",
        "    print(f\"{'★'* int(key):{10}}{value}\")"
      ]
    },
    {
      "cell_type": "markdown",
      "metadata": {
        "id": "C-Sje-V_8GY8"
      },
      "source": [
        "*Давайте рассмотрим другой пример и проверим, какие фильмы имеют самый высокий рейтинг.*"
      ]
    },
    {
      "cell_type": "code",
      "execution_count": 18,
      "metadata": {
        "id": "NvXwJ5Lx8GY8"
      },
      "outputs": [],
      "source": [
        "def loadMovieNames():\n",
        "    movieNames = {}\n",
        "    with open(\"data/ml-1m/movies.dat\", encoding= 'ISO-8859-1') as f:\n",
        "        for line in f:\n",
        "            fields = line.split('::')\n",
        "            movieNames[int(fields[0])] = fields[1]\n",
        "    return movieNames"
      ]
    },
    {
      "cell_type": "markdown",
      "metadata": {
        "id": "E2At-82M8GY9"
      },
      "source": [
        "### Распределим словарь с названиями фильмов на все узлы кластера, чтобы использовать его в наших Spark-задачах"
      ]
    },
    {
      "cell_type": "markdown",
      "metadata": {
        "id": "H34Dy97k8GY9"
      },
      "source": [
        "Далее мы используем метод `broadcast` объекта `sc` (SparkContext), чтобы создать **распределенную переменную** (broadcast variable) на всех узлах кластера. Давайте разберемся, что это означает:\n",
        "\n",
        "- **Broadcast Variables**: Это **только для чтения** общие переменные, которые кэшируются и доступны на всех узлах в кластере. Они используются для распределения данных, которые не меняются, между задачами (tasks) на разных узлах. Вместо отправки этих данных с каждой задачей, Spark распределяет broadcast переменные на рабочие узлы с помощью эффективных алгоритмов передачи данных, чтобы уменьшить затраты на коммуникацию.\n",
        "\n",
        "- **Зачем использовать broadcast переменные?**: Представьте, что у вас есть большой словарь с названиями фильмов, и вы хотите использовать его во всех задачах на разных узлах. Вместо того чтобы отправлять этот словарь с каждой задачей, вы можете создать broadcast переменную, которая будет кэширована на каждом узле. Задачи будут использовать этот кэшированный словарь при выполнении преобразований.\n",
        "\n",
        "- **Создание Broadcast переменной**: В данном случае мы создаем broadcast переменную, используя метод `broadcast` объекта `sc`. Мы передаем в него результат вызова функции `loadMovieNames()`, которая возвращает словарь с названиями фильмов.\n",
        "\n",
        "- **Использование Broadcast переменной**: После создания broadcast переменной, вы можете получить доступ к ее значению с помощью `.value`. Например, `nameDict.value` даст вам доступ к загруженному словарю с названиями фильмов."
      ]
    },
    {
      "cell_type": "code",
      "execution_count": 19,
      "metadata": {
        "id": "pn6ROh7Y8GY9"
      },
      "outputs": [],
      "source": [
        "nameDict = sc.broadcast(loadMovieNames())"
      ]
    },
    {
      "cell_type": "code",
      "execution_count": 20,
      "metadata": {
        "id": "0g01j2Su8GY9"
      },
      "outputs": [],
      "source": [
        "movies = ratingsRDD.map(lambda x: (int(x.split(\"::\")[1]), 1))"
      ]
    },
    {
      "cell_type": "code",
      "execution_count": 21,
      "metadata": {
        "id": "MWybsbMg8GY9",
        "outputId": "71589e22-5253-42a8-fe68-cb1f446e2d8b",
        "colab": {
          "base_uri": "https://localhost:8080/"
        }
      },
      "outputs": [
        {
          "output_type": "execute_result",
          "data": {
            "text/plain": [
              "[(1193, 1), (661, 1), (914, 1), (3408, 1), (2355, 1)]"
            ]
          },
          "metadata": {},
          "execution_count": 21
        }
      ],
      "source": [
        "movies.take(5)"
      ]
    },
    {
      "cell_type": "markdown",
      "metadata": {
        "id": "CJucIRxv8GY9"
      },
      "source": [
        "### Подсчитаем общее количества просмотров для каждого фильма"
      ]
    },
    {
      "cell_type": "markdown",
      "metadata": {
        "id": "KXHjrdNx8GY9"
      },
      "source": [
        "1. **`movieCounts = movies.reduceByKey(lambda x, y: x + y)`**:\n",
        "    - В данной строке мы используем метод `reduceByKey` на RDD.\n",
        "\n",
        "2. **`reduceByKey`**:\n",
        "    - Это **трансформация** (transformation) в **Apache Spark**, применяемая к **key-value RDD**.\n",
        "    - Она группирует значения, соответствующие каждому ключу, а затем применяет функцию сокращения (reduction function) к значениям каждой группы.\n",
        "    - В данном случае, функция сокращения - это **лямбда-функция** `lambda x, y: x + y`, которая складывает значения `x` и `y`.\n",
        "\n",
        "3. **Что происходит дальше?**:\n",
        "    - После выполнения этой строки кода, у нас будет новый RDD `movieCounts`, где каждый ключ ассоциирован с одним сокращенным значением (в данном случае, суммой всех значений для каждого ключа).\n",
        "\n",
        "4. **Пример**:\n",
        "    - Предположим, у нас есть RDD `movies`, где ключами являются идентификаторы фильмов, а значениями - количество просмотров каждого фильма.\n",
        "    - `reduceByKey` объединяет значения для каждого ключа и выполняет суммирование.\n",
        "    - Например, если у нас есть `(movie_id, views)` пары:\n",
        "        ```\n",
        "        (1, 10)\n",
        "        (2, 15)\n",
        "        (1, 5)\n",
        "        (3, 8)\n",
        "        ```\n",
        "    - После применения `reduceByKey`, мы получим:\n",
        "        ```\n",
        "        (1, 15)  # 10 + 5\n",
        "        (2, 15)\n",
        "        (3, 8)\n",
        "        ```"
      ]
    },
    {
      "cell_type": "code",
      "execution_count": 22,
      "metadata": {
        "id": "o9rd4wqL8GZJ"
      },
      "outputs": [],
      "source": [
        "movieCounts = movies.reduceByKey(lambda x, y: x + y)"
      ]
    },
    {
      "cell_type": "code",
      "execution_count": 23,
      "metadata": {
        "id": "BuIraXhQ8GZJ",
        "outputId": "03962adb-d5f2-4768-8706-5165e577093a",
        "colab": {
          "base_uri": "https://localhost:8080/"
        }
      },
      "outputs": [
        {
          "output_type": "execute_result",
          "data": {
            "text/plain": [
              "[(1193, 1725), (661, 525), (914, 636), (3408, 1315), (2355, 1703)]"
            ]
          },
          "metadata": {},
          "execution_count": 23
        }
      ],
      "source": [
        "movieCounts.take(5)"
      ]
    },
    {
      "cell_type": "markdown",
      "metadata": {
        "id": "TYAtbe_A8GZJ"
      },
      "source": [
        "### Поменяем местами ключи и значения"
      ]
    },
    {
      "cell_type": "markdown",
      "metadata": {
        "id": "VqL0vlAY8GZJ"
      },
      "source": [
        "1. **`flipped = movieCounts.map(lambda x: (x[1], x[0]))`**:\n",
        "    - В этой строке мы используем метод `map` на RDD (Resilient Distributed Dataset) с названием `movieCounts`.\n",
        "    - Мы применяем анонимную функцию (лямбда-функцию) к каждому элементу RDD.\n",
        "    - Цель - поменять местами ключи и значения в каждой паре (K, V) в RDD.\n",
        "    - В данном случае, мы меняем местами количество просмотров фильма (значение) и идентификатор фильма (ключ).\n",
        "\n",
        "2. **`sortedMovies = flipped.sortByKey(ascending=False)`**:\n",
        "    - Затем, мы используем метод `sortByKey` на RDD `flipped`.\n",
        "    - Мы сортируем элементы RDD по ключу (количество просмотров фильма) в убывающем порядке (по умолчанию).\n",
        "    - В результате получается новый RDD `sortedMovies`, где фильмы отсортированы по количеству просмотров.\n",
        "\n",
        "В итоге, `sortedMovies` будет содержать фильмы, отсортированные по убыванию количества просмотров. Например, фильм с наибольшим количеством просмотров будет первым в списке."
      ]
    },
    {
      "cell_type": "code",
      "execution_count": 24,
      "metadata": {
        "id": "LUDLQwiY8GZJ"
      },
      "outputs": [],
      "source": [
        "flipped = movieCounts.map( lambda x : (x[1], x[0]))\n",
        "sortedMovies = flipped.sortByKey(ascending=False)"
      ]
    },
    {
      "cell_type": "code",
      "execution_count": 25,
      "metadata": {
        "id": "Jw2zzuZj8GZJ",
        "outputId": "f813a9ba-b502-4450-fac0-96d59a884765",
        "colab": {
          "base_uri": "https://localhost:8080/"
        }
      },
      "outputs": [
        {
          "output_type": "execute_result",
          "data": {
            "text/plain": [
              "[(3428, 2858), (2991, 260), (2990, 1196), (2883, 1210), (2672, 480)]"
            ]
          },
          "metadata": {},
          "execution_count": 25
        }
      ],
      "source": [
        "sortedMovies.take(5)"
      ]
    },
    {
      "cell_type": "markdown",
      "metadata": {
        "id": "x4q8uofB8GZJ"
      },
      "source": [
        "### Сформируем новый RDD, с ключами, соответствующими названиям фильмов"
      ]
    },
    {
      "cell_type": "markdown",
      "metadata": {
        "id": "CZ6nkFTq8GZK"
      },
      "source": [
        "1. **`sortedMoviesWithNames = sortedMovies.map(lambda countMovie: (nameDict.value[countMovie[1]], countMovie[0]))`**:\n",
        "    - В данной строке мы используем метод `map` на RDD (Resilient Distributed Dataset) с названием `sortedMovies`.\n",
        "    - Мы применяем анонимную функцию (лямбда-функцию) к каждому элементу RDD.\n",
        "    - Цель - создать новый RDD, где ключами будут названия фильмов (полученные из `nameDict`) и значениями - количество просмотров фильма.\n",
        "    - В данном случае, мы опять меняем местами ключи и значения.\n",
        "\n",
        "2. **Пример**:\n",
        "    - Предположим, у нас есть RDD `sortedMovies`, где ключами являются идентификаторы фильмов, а значениями - количество просмотров каждого фильма.\n",
        "    - `nameDict` - это broadcast переменная, содержащая соответствие между идентификаторами фильмов и их названиями.\n",
        "    - `sortedMoviesWithNames` будет содержать новый RDD, где ключами будут названия фильмов, а значениями - количество просмотров.\n",
        "\n",
        "3. **Пример вывода**:\n",
        "    ```\n",
        "    [('Shawshank Redemption, The (1994)', 12345),\n",
        "     ('Pulp Fiction (1994)', 9876),\n",
        "     ('Forrest Gump (1994)', 5678),\n",
        "     ...]\n",
        "    ```\n",
        "\n",
        "    - В данном примере, фильм \"Shawshank Redemption, The (1994)\" имеет 12345 просмотров, \"Pulp Fiction (1994)\" - 9876 просмотров, и так далее."
      ]
    },
    {
      "cell_type": "code",
      "execution_count": 26,
      "metadata": {
        "id": "ug1Uplce8GZK"
      },
      "outputs": [],
      "source": [
        "sortedMoviesWithNames = sortedMovies.map(lambda countMovie : (nameDict.value[countMovie[1]], countMovie[0]))"
      ]
    },
    {
      "cell_type": "markdown",
      "metadata": {
        "id": "Jlt1F5aN8GZK"
      },
      "source": [
        "*Топ-10 самых рейтинговых фильмов.*"
      ]
    },
    {
      "cell_type": "code",
      "execution_count": 27,
      "metadata": {
        "id": "P8rkJDxL8GZK",
        "outputId": "a4b86946-efe6-4f15-b038-acc0b139854b",
        "colab": {
          "base_uri": "https://localhost:8080/"
        }
      },
      "outputs": [
        {
          "output_type": "execute_result",
          "data": {
            "text/plain": [
              "[('American Beauty (1999)', 3428),\n",
              " ('Star Wars: Episode IV - A New Hope (1977)', 2991),\n",
              " ('Star Wars: Episode V - The Empire Strikes Back (1980)', 2990),\n",
              " ('Star Wars: Episode VI - Return of the Jedi (1983)', 2883),\n",
              " ('Jurassic Park (1993)', 2672),\n",
              " ('Saving Private Ryan (1998)', 2653),\n",
              " ('Terminator 2: Judgment Day (1991)', 2649),\n",
              " ('Matrix, The (1999)', 2590),\n",
              " ('Back to the Future (1985)', 2583),\n",
              " ('Silence of the Lambs, The (1991)', 2578)]"
            ]
          },
          "metadata": {},
          "execution_count": 27
        }
      ],
      "source": [
        "sortedMoviesWithNames.take(10)"
      ]
    },
    {
      "cell_type": "markdown",
      "metadata": {
        "id": "KvQLhvfL8GZK"
      },
      "source": [
        "*Посмотрим на фильмы с наибольшим рейтингом 5 звезд*"
      ]
    },
    {
      "cell_type": "markdown",
      "metadata": {
        "id": "HibWxxQ88GZK"
      },
      "source": [
        "Давайте разберем этот код по частям:\n",
        "\n",
        "1. **`def filter_five_star(line):`**:Определим функцию с именем `filter_five_star`.\n",
        "\n",
        "    - `line`: Это аргумент функции - строка, которую мы хотим проверить.\n",
        "\n",
        "2. **`splited_line = line.split(\"::\")`**: Далее, мы разделяем строку `line` на части, используя разделитель `\"::\"`. Результатом будет список, содержащий разделенные части.\n",
        "\n",
        "3. **`if splited_line[2] == '5':`**: Здесь мы проверяем, является ли третий элемент списка равным строке `'5'`.\n",
        "\n",
        "4. **`return line`**: Если условие выполняется (третий элемент равен `'5'`), функция возвращает исходную строку `line`."
      ]
    },
    {
      "cell_type": "code",
      "execution_count": 28,
      "metadata": {
        "id": "i9xV24Dv8GZK"
      },
      "outputs": [],
      "source": [
        "def filter_five_star(line):\n",
        "    splited_line= line.split(\"::\")\n",
        "    if splited_line[2] == '5':\n",
        "        return line"
      ]
    },
    {
      "cell_type": "markdown",
      "metadata": {
        "id": "W9XsLl1M8GZK"
      },
      "source": [
        "- **`five_start_ratingsRDD = ratingsRDD.filter(lambda x: filter_five_star(x))`**: В этой строке мы используем метод `filter` на RDD `ratingsRDD`. Давайте разберемся, что это означает:\n",
        "\n",
        "    - `filter`: Это трансформация, которая применяет заданную функцию к каждому элементу RDD и возвращает новый RDD, содержащий только те элементы, для которых функция возвращает `True`.\n",
        "    - `lambda x: filter_five_star(x)`: Это анонимная функция (лямбда-функция), которая принимает один аргумент `x` (элемент RDD) и вызывает функцию `filter_five_star(x)`.\n",
        "\n",
        "- **`five_start_ratingsRDD.take(5)`**: Здесь мы используем метод `take(5)` на новом RDD `five_start_ratingsRDD`, чтобы получить первые пять элементов.\n",
        "\n",
        "*В результате выполнения этого кода, у нас будет новый RDD `five_start_ratingsRDD`, содержащий только строки с рейтингами, равными `'5'`:*"
      ]
    },
    {
      "cell_type": "code",
      "execution_count": 29,
      "metadata": {
        "id": "eEBaigxN8GZK",
        "colab": {
          "base_uri": "https://localhost:8080/"
        },
        "outputId": "c1fdfd78-49c1-4f54-95d6-3f0e25432393"
      },
      "outputs": [
        {
          "output_type": "execute_result",
          "data": {
            "text/plain": [
              "['1::1193::5::978300760',\n",
              " '1::2355::5::978824291',\n",
              " '1::1287::5::978302039',\n",
              " '1::2804::5::978300719',\n",
              " '1::595::5::978824268']"
            ]
          },
          "metadata": {},
          "execution_count": 29
        }
      ],
      "source": [
        "five_start_rattingsRDD= ratingsRDD.filter(lambda x: filter_five_star(x))\n",
        "five_start_rattingsRDD.take(5)"
      ]
    },
    {
      "cell_type": "code",
      "execution_count": 30,
      "metadata": {
        "id": "P3ob6iua8GZK"
      },
      "outputs": [],
      "source": [
        "# Преобразуем каждую запись RDD five_start_rattingsRDD в (movieId, 1)\n",
        "five_start_movies = five_start_rattingsRDD.map(lambda x: (int(x.split(\"::\")[1]), 1))\n",
        "\n",
        "# Подсчитаем количество вхождений каждого фильма (movieId) в RDD five_start_movies\n",
        "five_start_movieCounts = five_start_movies.reduceByKey(lambda x, y: x + y)\n",
        "\n",
        "# Меняем местами ключ и значение в каждой записи RDD five_start_movieCounts\n",
        "flipped = five_start_movieCounts.map( lambda x : (x[1], x[0]))\n",
        "\n",
        "# Сортируем RDD flipped по ключу (количеству просмотров) по убыванию\n",
        "five_start_sortedMovies = flipped.sortByKey(ascending=False)\n",
        "\n",
        "# Добавим в отсортированный RDD информацию о названии фильма по movieId\n",
        "five_start_sortedMoviesWithNames = five_start_sortedMovies.map(lambda countMovie : (nameDict.value[countMovie[1]], countMovie[0]))"
      ]
    },
    {
      "cell_type": "code",
      "execution_count": 31,
      "metadata": {
        "id": "GzJrfMrB8GZL",
        "outputId": "42984fc2-f389-4624-aeea-d13adc157e1e",
        "colab": {
          "base_uri": "https://localhost:8080/"
        }
      },
      "outputs": [
        {
          "output_type": "execute_result",
          "data": {
            "text/plain": [
              "[('American Beauty (1999)', 1963),\n",
              " ('Star Wars: Episode IV - A New Hope (1977)', 1826),\n",
              " ('Raiders of the Lost Ark (1981)', 1500),\n",
              " ('Star Wars: Episode V - The Empire Strikes Back (1980)', 1483),\n",
              " (\"Schindler's List (1993)\", 1475),\n",
              " ('Godfather, The (1972)', 1475),\n",
              " ('Shawshank Redemption, The (1994)', 1457),\n",
              " ('Matrix, The (1999)', 1430),\n",
              " ('Saving Private Ryan (1998)', 1405),\n",
              " ('Sixth Sense, The (1999)', 1385)]"
            ]
          },
          "metadata": {},
          "execution_count": 31
        }
      ],
      "source": [
        "five_start_sortedMoviesWithNames.take(10)"
      ]
    },
    {
      "cell_type": "markdown",
      "metadata": {
        "id": "tMtAo_be8GZL"
      },
      "source": [
        "### Задание №1. Выведите общее количество фильмов по годам (применяя алгоритм действий по аналогии с примерами выше)"
      ]
    },
    {
      "cell_type": "markdown",
      "source": [
        "[Текст ссылки](https://)1. Загрузите данные о фильмах с помощью метода `sc.textFile(\"data/ml-1m/movies.dat\")` и сохраните результат в переменную `moviesRDD`:\n"
      ],
      "metadata": {
        "id": "z7bzD3aXpOsp"
      }
    },
    {
      "cell_type": "code",
      "execution_count": 32,
      "metadata": {
        "id": "LDnBQqZX8GZL"
      },
      "outputs": [],
      "source": [
        "moviesRDD = sc.textFile(\"data/ml-1m/movies.dat\")"
      ]
    },
    {
      "cell_type": "markdown",
      "source": [
        "2. Выведите первые 5 записей из `moviesRDD`:\n"
      ],
      "metadata": {
        "id": "wsBN9Uv4pWz3"
      }
    },
    {
      "cell_type": "code",
      "execution_count": 33,
      "metadata": {
        "id": "xrsCyH8o8GZL",
        "outputId": "2d039489-744a-4e1c-ec70-542257c16a8a",
        "colab": {
          "base_uri": "https://localhost:8080/"
        }
      },
      "outputs": [
        {
          "output_type": "execute_result",
          "data": {
            "text/plain": [
              "[\"1::Toy Story (1995)::Animation|Children's|Comedy\",\n",
              " \"2::Jumanji (1995)::Adventure|Children's|Fantasy\",\n",
              " '3::Grumpier Old Men (1995)::Comedy|Romance',\n",
              " '4::Waiting to Exhale (1995)::Comedy|Drama',\n",
              " '5::Father of the Bride Part II (1995)::Comedy']"
            ]
          },
          "metadata": {},
          "execution_count": 33
        }
      ],
      "source": [
        "moviesRDD.take(5)"
      ]
    },
    {
      "cell_type": "markdown",
      "source": [
        "3. Извлеките год из строки 'Toy Story (1995)' с помощью среза:"
      ],
      "metadata": {
        "id": "7-7-ghXrpcJn"
      }
    },
    {
      "cell_type": "code",
      "execution_count": 45,
      "metadata": {
        "id": "B0g53s088GZL",
        "outputId": "e56d65a5-6c90-4e02-b830-5a245b1ba0e8",
        "colab": {
          "base_uri": "https://localhost:8080/",
          "height": 35
        }
      },
      "outputs": [
        {
          "output_type": "execute_result",
          "data": {
            "text/plain": [
              "'1995'"
            ],
            "application/vnd.google.colaboratory.intrinsic+json": {
              "type": "string"
            }
          },
          "metadata": {},
          "execution_count": 45
        }
      ],
      "source": [
        "first_movie_title = moviesRDD.first()\n",
        "\n",
        "year = first_movie_title.split(\"::\")[1][-5:-1]\n",
        "\n",
        "year"
      ]
    },
    {
      "cell_type": "markdown",
      "source": [
        "4. Импортируйте модуль `re` с помощью команды `import re`. Найдите год выпуска фильма 'Grumpier Old Men (1995)' с помощью регулярного выражения `r'\\([0-9]{4}\\)$' и метода `re.search()`:\n"
      ],
      "metadata": {
        "id": "lGPGD18Qpm5q"
      }
    },
    {
      "cell_type": "code",
      "execution_count": 48,
      "metadata": {
        "id": "PtIRVKLK8GZL",
        "outputId": "a240718c-b80f-4313-8f45-75210ff5e157",
        "colab": {
          "base_uri": "https://localhost:8080/"
        }
      },
      "outputs": [
        {
          "output_type": "stream",
          "name": "stdout",
          "text": [
            "1995\n"
          ]
        }
      ],
      "source": [
        "import re\n",
        "\n",
        "third_movie = moviesRDD.take(3)[-1]\n",
        "\n",
        "match = re.search(r'\\([0-9]{4}\\)$', third_movie)\n",
        "if match:\n",
        "    year = match.group(0)[1:-1]\n",
        "\n",
        "\n",
        "print(year)"
      ]
    },
    {
      "cell_type": "markdown",
      "source": [
        "6. Определите функцию `get_year(line)`, которая принимает строку, разделяет её по символу '::', извлекает год выпуска фильма и возвращает кортеж `(year, 1)`:\n"
      ],
      "metadata": {
        "id": "lbcVYM59puWb"
      }
    },
    {
      "cell_type": "code",
      "execution_count": 50,
      "metadata": {
        "id": "_hdMhpyB8GZL",
        "colab": {
          "base_uri": "https://localhost:8080/"
        },
        "outputId": "c964f50c-574c-495b-d95e-9a69ad219e23"
      },
      "outputs": [
        {
          "output_type": "execute_result",
          "data": {
            "text/plain": [
              "('1995', 1)"
            ]
          },
          "metadata": {},
          "execution_count": 50
        }
      ],
      "source": [
        "import re\n",
        "\n",
        "def get_year(line):\n",
        "    elements = line.split(\"::\")\n",
        "    title = elements[1]\n",
        "    year_match = re.search(r'\\((\\d{4})\\)', title)\n",
        "    year = year_match.group(1)\n",
        "    return (year, 1)\n",
        "\n",
        "\n",
        "first_movie_title = moviesRDD.first()\n",
        "year = get_year(first_movie_title)\n",
        "\n",
        "year\n"
      ]
    },
    {
      "cell_type": "markdown",
      "source": [
        "7. Примените функцию `get_year(x)` к каждому элементу `moviesRDD` с помощью метода `map()`, результат сохраните в переменную `year_RDD`:"
      ],
      "metadata": {
        "id": "ZFqolOVMp1x5"
      }
    },
    {
      "cell_type": "code",
      "source": [
        "year_RDD = moviesRDD.map(lambda x: get_year(x))"
      ],
      "metadata": {
        "id": "ypH_nT16p8_W"
      },
      "execution_count": 51,
      "outputs": []
    },
    {
      "cell_type": "markdown",
      "source": [
        "8. Выведите первые 5 записей из `year_RDD`:"
      ],
      "metadata": {
        "id": "2KT9KLQcp7rh"
      }
    },
    {
      "cell_type": "code",
      "execution_count": 52,
      "metadata": {
        "id": "NDrBwhGe8GZL",
        "outputId": "d06e562d-f3d1-4f22-d880-d56e69f7ff96",
        "colab": {
          "base_uri": "https://localhost:8080/"
        }
      },
      "outputs": [
        {
          "output_type": "execute_result",
          "data": {
            "text/plain": [
              "[('1995', 1), ('1995', 1), ('1995', 1), ('1995', 1), ('1995', 1)]"
            ]
          },
          "metadata": {},
          "execution_count": 52
        }
      ],
      "source": [
        "year_RDD.take(5)"
      ]
    },
    {
      "cell_type": "markdown",
      "source": [
        "9. Сгруппируйте данные в `year_RDD` по годам и подсчитайте количество фильмов для каждого года с помощью метода `reduceByKey()`, результат сохраните в переменную `yearCounts`:"
      ],
      "metadata": {
        "id": "ytoTfskDqCrf"
      }
    },
    {
      "cell_type": "code",
      "execution_count": 53,
      "metadata": {
        "id": "Wp-339Iz8GZL"
      },
      "outputs": [],
      "source": [
        "yearCounts = year_RDD.filter(lambda x: x[0] is not None).map(lambda x: (x[0], 1)).reduceByKey(lambda x, y: x + y)"
      ]
    },
    {
      "cell_type": "markdown",
      "source": [
        "10. Выведите первые 5 записей из `yearCounts`:"
      ],
      "metadata": {
        "id": "8-ojjccqqHQs"
      }
    },
    {
      "cell_type": "code",
      "execution_count": 54,
      "metadata": {
        "id": "MNlhg9Pm8GZL",
        "outputId": "034e9cc3-1fed-439e-d578-5a95b699dc03",
        "colab": {
          "base_uri": "https://localhost:8080/"
        }
      },
      "outputs": [
        {
          "output_type": "execute_result",
          "data": {
            "text/plain": [
              "[('1995', 342), ('1994', 257), ('1996', 345), ('1976', 21), ('1993', 165)]"
            ]
          },
          "metadata": {},
          "execution_count": 54
        }
      ],
      "source": [
        "yearCounts.take(5)"
      ]
    },
    {
      "cell_type": "markdown",
      "source": [
        "11. Отсортируйте `yearCounts` по годам в возрастающем порядке с помощью метода `sortByKey()`, результат сохраните в переменную `ascending_sorted_yearCounts`:"
      ],
      "metadata": {
        "id": "bRG1pRubqLDY"
      }
    },
    {
      "cell_type": "code",
      "execution_count": 55,
      "metadata": {
        "id": "LgIdZgdT8GZL"
      },
      "outputs": [],
      "source": [
        "ascending_sorted_yearCounts = yearCounts.sortByKey()"
      ]
    },
    {
      "cell_type": "markdown",
      "source": [
        "12. Выведите первые 5 записей из `ascending_sorted_yearCounts`:\n"
      ],
      "metadata": {
        "id": "qQOylqm9qQJ1"
      }
    },
    {
      "cell_type": "code",
      "execution_count": 56,
      "metadata": {
        "id": "UauHj13z8GZL",
        "outputId": "f5ae7ccd-824d-4bf9-f01c-691dbb24962d",
        "colab": {
          "base_uri": "https://localhost:8080/"
        }
      },
      "outputs": [
        {
          "output_type": "execute_result",
          "data": {
            "text/plain": [
              "[('1919', 3), ('1920', 2), ('1921', 1), ('1922', 2), ('1923', 3)]"
            ]
          },
          "metadata": {},
          "execution_count": 56
        }
      ],
      "source": [
        "ascending_sorted_yearCounts.take(5)"
      ]
    },
    {
      "cell_type": "markdown",
      "source": [
        "13. Отсортируйте `yearCounts` по годам в убывающем порядке с помощью метода `sortByKey`, результат сохраните в переменную `descending_sorted_yearCounts`:"
      ],
      "metadata": {
        "id": "OxwquwXEqUkS"
      }
    },
    {
      "cell_type": "code",
      "execution_count": 57,
      "metadata": {
        "id": "AdjjBUW18GZM"
      },
      "outputs": [],
      "source": [
        "descending_sorted_yearCounts = yearCounts.sortByKey(ascending=False)"
      ]
    },
    {
      "cell_type": "markdown",
      "source": [
        "14. Выведите первые 5 записей из `descending_sorted_yearCounts`:"
      ],
      "metadata": {
        "id": "mDyOeeLhqaGq"
      }
    },
    {
      "cell_type": "code",
      "execution_count": 58,
      "metadata": {
        "id": "KPatn1Jr8GZM",
        "outputId": "f953b2ce-a6ce-463e-e690-9f146fa806f6",
        "colab": {
          "base_uri": "https://localhost:8080/"
        }
      },
      "outputs": [
        {
          "output_type": "execute_result",
          "data": {
            "text/plain": [
              "[('2000', 156), ('1999', 283), ('1998', 337), ('1997', 315), ('1996', 345)]"
            ]
          },
          "metadata": {},
          "execution_count": 58
        }
      ],
      "source": [
        "descending_sorted_yearCounts.take(5)"
      ]
    },
    {
      "cell_type": "markdown",
      "metadata": {
        "id": "mhN3gemw8GZM"
      },
      "source": [
        "15. Переставьте местами ключи и значения в `yearCounts` с помощью метода `map()`, где каждый элемент преобразуется в кортеж `(x[1], x[0])`. Результат сохраните в переменную `flipped`."
      ]
    },
    {
      "cell_type": "code",
      "source": [
        "flipped = yearCounts.map(lambda x: (x[1], x[0]))"
      ],
      "metadata": {
        "id": "IT4ZMvbXrOIl"
      },
      "execution_count": 59,
      "outputs": []
    },
    {
      "cell_type": "markdown",
      "source": [
        "16. Отсортируйте `flipped` по количеству фильмов в убывающем порядке с помощью метода `sortByKey(ascending= False)`. Результат сохраните в переменную `descending_sorted_yearCounts`."
      ],
      "metadata": {
        "id": "z5k4pcOnrGuZ"
      }
    },
    {
      "cell_type": "code",
      "execution_count": 60,
      "metadata": {
        "id": "rFHiWb-N8GZM"
      },
      "outputs": [],
      "source": [
        "descending_sorted_yearCounts = flipped.sortByKey(ascending=False)"
      ]
    },
    {
      "cell_type": "markdown",
      "source": [
        "17. Выведите первые 10 записей из `descending_sorted_yearCounts`:"
      ],
      "metadata": {
        "id": "8doi5CJvrJ50"
      }
    },
    {
      "cell_type": "code",
      "execution_count": 61,
      "metadata": {
        "id": "AngBdsXC8GZM",
        "outputId": "e1343975-a0d0-4d2b-8040-4afb9fbf6c65",
        "colab": {
          "base_uri": "https://localhost:8080/"
        }
      },
      "outputs": [
        {
          "output_type": "execute_result",
          "data": {
            "text/plain": [
              "[(345, '1996'),\n",
              " (342, '1995'),\n",
              " (337, '1998'),\n",
              " (315, '1997'),\n",
              " (283, '1999'),\n",
              " (257, '1994'),\n",
              " (165, '1993'),\n",
              " (156, '2000'),\n",
              " (104, '1986'),\n",
              " (102, '1992')]"
            ]
          },
          "metadata": {},
          "execution_count": 61
        }
      ],
      "source": [
        "descending_sorted_yearCounts.take(10)"
      ]
    },
    {
      "cell_type": "markdown",
      "source": [
        "### Задание №2. Определите наиболее активную возрастную группу пользователей"
      ],
      "metadata": {
        "id": "hF_1aGRZrkbd"
      }
    },
    {
      "cell_type": "markdown",
      "source": [
        "1. Выведите первые 5 записей из `ratingsRDD`:\n"
      ],
      "metadata": {
        "id": "BxE1vkZZsW-l"
      }
    },
    {
      "cell_type": "code",
      "source": [
        "ratingsRDD = sc.textFile(\"data/ml-1m/ratings.dat\")"
      ],
      "metadata": {
        "id": "9DjFKOLQ4N6_"
      },
      "execution_count": 110,
      "outputs": []
    },
    {
      "cell_type": "markdown",
      "source": [
        "2. Определите функцию `load_age_group()`, которая создает словарь `age_group` с возрастными группами и словарь `user_ageGroup`, где каждому пользователю сопоставляется его возрастная группа. Данные для `user_ageGroup` загружаются из файла \"data/ml-1m/users.dat\".\n"
      ],
      "metadata": {
        "id": "VuG0j6y-tSLu"
      }
    },
    {
      "cell_type": "code",
      "source": [
        "def load_age_group(users_data):\n",
        "    # Словарь подсмотрен из выводов ниже... сложно было догадаться интуитивно\n",
        "    age_group = {\n",
        "        1: \"Under 18\",\n",
        "        18: \"18-24\",\n",
        "        25: \"25-34\",\n",
        "        35: \"35-44\",\n",
        "        45: \"45-49\",\n",
        "        50: \"50-55\",\n",
        "        56: \"56+\"\n",
        "    }\n",
        "\n",
        "\n",
        "\n",
        "    user_ageGroup = users_data.map(lambda line: line.split(\"::\")) \\\n",
        "                              .map(lambda fields: (fields[0], age_group[int(fields[2])])) \\\n",
        "                              .collectAsMap()\n",
        "\n",
        "\n",
        "    ageGroupDict = sc.broadcast(user_ageGroup)\n",
        "\n",
        "    return ageGroupDict"
      ],
      "metadata": {
        "id": "TN_U4usHy-3D"
      },
      "execution_count": 137,
      "outputs": []
    },
    {
      "cell_type": "markdown",
      "source": [
        "3. Вызовите функцию `load_age_group()` и результат распространите по всем узлам с помощью метода `sc.broadcast()`. Результат сохраните в переменную `ageGroupDict`:"
      ],
      "metadata": {
        "id": "Uena0DxTtXCQ"
      }
    },
    {
      "cell_type": "code",
      "execution_count": 138,
      "metadata": {
        "id": "ryD97SdJ8GZM"
      },
      "outputs": [],
      "source": [
        "users_data = sc.textFile(\"data/ml-1m/users.dat\")\n",
        "ageGroupDict = load_age_group(users_data)"
      ]
    },
    {
      "cell_type": "markdown",
      "source": [
        "4. Преобразуйте `ratingsRDD` в новый RDD `users_ratings`, где каждый элемент - это кортеж `(userID, 1)`.\n"
      ],
      "metadata": {
        "id": "vLOOQjpXtdLP"
      }
    },
    {
      "cell_type": "code",
      "source": [
        "users_ratings = ratingsRDD.map(lambda x: (x.split(\"::\")[0], 1))"
      ],
      "metadata": {
        "id": "REp9Z8TztmNz"
      },
      "execution_count": 126,
      "outputs": []
    },
    {
      "cell_type": "markdown",
      "source": [
        "5. Сгруппируйте `users_ratings` по пользователям и подсчитайте количество оценок для каждого пользователя с помощью метода `reduceByKey()`. Результат сохраните в переменную `count_user_ratings`."
      ],
      "metadata": {
        "id": "b4Ewc7NTtg6c"
      }
    },
    {
      "cell_type": "code",
      "execution_count": 127,
      "metadata": {
        "id": "xQagroSw8GZM"
      },
      "outputs": [],
      "source": [
        "count_user_ratings = users_ratings.reduceByKey(lambda x, y: x + y)"
      ]
    },
    {
      "cell_type": "markdown",
      "source": [
        "6. Выведите первые 5 записей из `count_user_ratings` с помощью метода `take(5)`:"
      ],
      "metadata": {
        "id": "O68LPOkWtjxP"
      }
    },
    {
      "cell_type": "code",
      "execution_count": 128,
      "metadata": {
        "id": "qUziBFZP8GZM",
        "outputId": "0955a4d2-7af1-47ff-e378-b0c511b399c2",
        "colab": {
          "base_uri": "https://localhost:8080/"
        }
      },
      "outputs": [
        {
          "output_type": "execute_result",
          "data": {
            "text/plain": [
              "[('1', 53), ('2', 129), ('3', 51), ('4', 21), ('5', 198)]"
            ]
          },
          "metadata": {},
          "execution_count": 128
        }
      ],
      "source": [
        "count_user_ratings.take(5)"
      ]
    },
    {
      "cell_type": "markdown",
      "source": [
        "7. Переставьте местами ключи и значения в `count_user_ratings` с помощью метода `map()`, где каждый элемент преобразуется в кортеж `(x[1], x[0])`. Результат сохраните в переменную `flipped`:"
      ],
      "metadata": {
        "id": "jeIGjaXQtsBB"
      }
    },
    {
      "cell_type": "code",
      "source": [
        "flipped = count_user_ratings.map(lambda x: (x[1], x[0]))"
      ],
      "metadata": {
        "id": "SvJS-gjWtzWa"
      },
      "execution_count": 139,
      "outputs": []
    },
    {
      "cell_type": "code",
      "source": [
        "flipped.take(5)"
      ],
      "metadata": {
        "colab": {
          "base_uri": "https://localhost:8080/"
        },
        "id": "dPNfGd5y97ts",
        "outputId": "95f36684-485d-4eed-bbfe-2b61dcad04b7"
      },
      "execution_count": 140,
      "outputs": [
        {
          "output_type": "execute_result",
          "data": {
            "text/plain": [
              "[(53, '1'), (129, '2'), (51, '3'), (21, '4'), (198, '5')]"
            ]
          },
          "metadata": {},
          "execution_count": 140
        }
      ]
    },
    {
      "cell_type": "code",
      "source": [
        "count_user_ratings.take(5)"
      ],
      "metadata": {
        "colab": {
          "base_uri": "https://localhost:8080/"
        },
        "id": "R3saCryx9_cY",
        "outputId": "77fc2ac9-7684-455e-c279-f3fbefe139a4"
      },
      "execution_count": 141,
      "outputs": [
        {
          "output_type": "execute_result",
          "data": {
            "text/plain": [
              "[('1', 53), ('2', 129), ('3', 51), ('4', 21), ('5', 198)]"
            ]
          },
          "metadata": {},
          "execution_count": 141
        }
      ]
    },
    {
      "cell_type": "markdown",
      "source": [
        "8. Преобразуйте `flipped` в новый RDD `age_group_count`, где каждый элемент - это кортеж `(ageGroup, count)`."
      ],
      "metadata": {
        "id": "N9EKsmjCtvGP"
      }
    },
    {
      "cell_type": "code",
      "execution_count": 147,
      "metadata": {
        "id": "sfugqoSY8GZM"
      },
      "outputs": [],
      "source": [
        "age_group_count = flipped.map(lambda x: (ageGroupDict.value.get(x[1], \"Unknown\"), x[0]))"
      ]
    },
    {
      "cell_type": "markdown",
      "source": [
        "9. Сгруппируйте `age_group_count` по возрастным группам и подсчитайте общее количество оценок для каждой группы с помощью метода `reduceByKey()`. Результат сохраните в переменную `age_group_counts`:"
      ],
      "metadata": {
        "id": "jwpwzzFatxqk"
      }
    },
    {
      "cell_type": "code",
      "source": [
        "age_group_counts = age_group_count.reduceByKey(lambda x, y: x + y)"
      ],
      "metadata": {
        "id": "hEvOhkta8Ipk"
      },
      "execution_count": 148,
      "outputs": []
    },
    {
      "cell_type": "markdown",
      "source": [
        "10. Выведите все записи из `age_group_counts` с помощью метода `collect()`:"
      ],
      "metadata": {
        "id": "p40Sh9kft3sg"
      }
    },
    {
      "cell_type": "code",
      "execution_count": 149,
      "metadata": {
        "id": "AbqIrxfe8GZN",
        "outputId": "d2879626-7b4c-4beb-a57d-8fe6a7da7280",
        "colab": {
          "base_uri": "https://localhost:8080/"
        }
      },
      "outputs": [
        {
          "output_type": "execute_result",
          "data": {
            "text/plain": [
              "[('Under 18', 27211),\n",
              " ('56+', 38780),\n",
              " ('25-34', 395556),\n",
              " ('45-49', 83633),\n",
              " ('50-55', 72490),\n",
              " ('35-44', 199003),\n",
              " ('18-24', 183536)]"
            ]
          },
          "metadata": {},
          "execution_count": 149
        }
      ],
      "source": [
        "age_group_counts.collect()"
      ]
    },
    {
      "cell_type": "markdown",
      "source": [
        "11. Отсортируйте `age_group_counts` по количеству оценок в убывающем порядке и переставьте местами ключи и значения. Результат выведите с помощью метода `collect()`:"
      ],
      "metadata": {
        "id": "fEiLVr6wt61j"
      }
    },
    {
      "cell_type": "code",
      "execution_count": 151,
      "metadata": {
        "id": "GYXqmkqd8GZN",
        "outputId": "737383cb-8a50-4f11-f199-c95fbd086c2b",
        "colab": {
          "base_uri": "https://localhost:8080/"
        }
      },
      "outputs": [
        {
          "output_type": "execute_result",
          "data": {
            "text/plain": [
              "[('25-34', 395556),\n",
              " ('35-44', 199003),\n",
              " ('18-24', 183536),\n",
              " ('45-49', 83633),\n",
              " ('50-55', 72490),\n",
              " ('56+', 38780),\n",
              " ('Under 18', 27211)]"
            ]
          },
          "metadata": {},
          "execution_count": 151
        }
      ],
      "source": [
        "sorted_age_group_counts = age_group_counts.sortBy(lambda x: x[1], ascending=False)\n",
        "\n",
        "flipped_sorted_age_group_counts = sorted_age_group_counts.map(lambda x: (x[0], x[1]))\n",
        "\n",
        "flipped_sorted_age_group_counts.collect()"
      ]
    },
    {
      "cell_type": "markdown",
      "metadata": {
        "id": "yzp6BBmI8GZN"
      },
      "source": [
        "### Задание №3. Определите среднее количество друзей по возрастам\n",
        "\n"
      ]
    },
    {
      "cell_type": "markdown",
      "source": [
        "1. Загрузите набор данных фейковых пользователей социальной сети:"
      ],
      "metadata": {
        "id": "DpBj6ZvtvHHq"
      }
    },
    {
      "cell_type": "code",
      "execution_count": 164,
      "metadata": {
        "id": "KcWTl-5V8GZN"
      },
      "outputs": [],
      "source": [
        "fakefriends = sc.textFile('data/fakefriends.csv')"
      ]
    },
    {
      "cell_type": "markdown",
      "source": [
        "2. Выведите первые 5 строк из набора данных"
      ],
      "metadata": {
        "id": "BrA2lBhevd0e"
      }
    },
    {
      "cell_type": "code",
      "execution_count": 165,
      "metadata": {
        "id": "_2AZGCjy8GZN",
        "outputId": "70d97658-6f6d-4600-b9e1-801c946b870c",
        "colab": {
          "base_uri": "https://localhost:8080/"
        }
      },
      "outputs": [
        {
          "output_type": "execute_result",
          "data": {
            "text/plain": [
              "['0,Will,33,385',\n",
              " '1,Jean-Luc,26,2',\n",
              " '2,Hugh,55,221',\n",
              " '3,Deanna,40,465',\n",
              " '4,Quark,68,21']"
            ]
          },
          "metadata": {},
          "execution_count": 165
        }
      ],
      "source": [
        "fakefriends.take(5)"
      ]
    },
    {
      "cell_type": "markdown",
      "source": [
        "3. Посчитайте общее количество строк"
      ],
      "metadata": {
        "id": "U10_DKtavlSJ"
      }
    },
    {
      "cell_type": "code",
      "execution_count": 158,
      "metadata": {
        "id": "JfKrAku38GZN",
        "colab": {
          "base_uri": "https://localhost:8080/"
        },
        "outputId": "b20ee217-bf07-4f33-fa9d-f362239136f5"
      },
      "outputs": [
        {
          "output_type": "execute_result",
          "data": {
            "text/plain": [
              "500"
            ]
          },
          "metadata": {},
          "execution_count": 158
        }
      ],
      "source": [
        "lines = fakefriends.count()\n",
        "lines"
      ]
    },
    {
      "cell_type": "code",
      "source": [
        "# Преобразуем каждую строку в кортеж (возраст, количество друзей)\n",
        "\n",
        "# и создаем пару (возраст, (количество друзей, 1)) для дальнейшего вычисления среднего значения\n",
        "age_friends = fakefriends.map(lambda line: (int(line.split(',')[2]), (int(line.split(',')[3]), 1)))\n",
        "\n",
        "# Суммируем количество друзей и количество записей для каждого возраста\n",
        "total_friends_by_age = age_friends.reduceByKey(lambda x, y: (x[0] + y[0], x[1] + y[1]))\n",
        "\n",
        "# Вычисляем среднее количество друзей для каждого возраста\n",
        "average_friends_by_age = total_friends_by_age.mapValues(lambda x: x[0] / x[1])\n",
        "\n",
        "for age, average_friends in sorted(average_friends_by_age.collect()):\n",
        "    print(f\"Возраст {age}: {average_friends:.0f} Друзей\")"
      ],
      "metadata": {
        "colab": {
          "base_uri": "https://localhost:8080/"
        },
        "id": "BqPS56CXCmkQ",
        "outputId": "89157430-10a5-4cf3-ef8a-f53ea6e995c1"
      },
      "execution_count": 171,
      "outputs": [
        {
          "output_type": "stream",
          "name": "stdout",
          "text": [
            "Возраст 18: 343 Друзей\n",
            "Возраст 19: 213 Друзей\n",
            "Возраст 20: 165 Друзей\n",
            "Возраст 21: 351 Друзей\n",
            "Возраст 22: 206 Друзей\n",
            "Возраст 23: 246 Друзей\n",
            "Возраст 24: 234 Друзей\n",
            "Возраст 25: 197 Друзей\n",
            "Возраст 26: 242 Друзей\n",
            "Возраст 27: 228 Друзей\n",
            "Возраст 28: 209 Друзей\n",
            "Возраст 29: 216 Друзей\n",
            "Возраст 30: 236 Друзей\n",
            "Возраст 31: 267 Друзей\n",
            "Возраст 32: 208 Друзей\n",
            "Возраст 33: 325 Друзей\n",
            "Возраст 34: 246 Друзей\n",
            "Возраст 35: 212 Друзей\n",
            "Возраст 36: 247 Друзей\n",
            "Возраст 37: 249 Друзей\n",
            "Возраст 38: 194 Друзей\n",
            "Возраст 39: 169 Друзей\n",
            "Возраст 40: 251 Друзей\n",
            "Возраст 41: 269 Друзей\n",
            "Возраст 42: 304 Друзей\n",
            "Возраст 43: 231 Друзей\n",
            "Возраст 44: 282 Друзей\n",
            "Возраст 45: 310 Друзей\n",
            "Возраст 46: 224 Друзей\n",
            "Возраст 47: 233 Друзей\n",
            "Возраст 48: 281 Друзей\n",
            "Возраст 49: 185 Друзей\n",
            "Возраст 50: 255 Друзей\n",
            "Возраст 51: 302 Друзей\n",
            "Возраст 52: 341 Друзей\n",
            "Возраст 53: 223 Друзей\n",
            "Возраст 54: 278 Друзей\n",
            "Возраст 55: 296 Друзей\n",
            "Возраст 56: 307 Друзей\n",
            "Возраст 57: 259 Друзей\n",
            "Возраст 58: 117 Друзей\n",
            "Возраст 59: 220 Друзей\n",
            "Возраст 60: 203 Друзей\n",
            "Возраст 61: 256 Друзей\n",
            "Возраст 62: 221 Друзей\n",
            "Возраст 63: 384 Друзей\n",
            "Возраст 64: 281 Друзей\n",
            "Возраст 65: 298 Друзей\n",
            "Возраст 66: 276 Друзей\n",
            "Возраст 67: 215 Друзей\n",
            "Возраст 68: 270 Друзей\n",
            "Возраст 69: 235 Друзей\n"
          ]
        }
      ]
    },
    {
      "cell_type": "markdown",
      "source": [
        "### Дополнительные примеры:"
      ],
      "metadata": {
        "id": "e-DbI5f8v9oq"
      }
    },
    {
      "cell_type": "markdown",
      "source": [
        "#### 1. Поиск метеостанции с минимальной температурой"
      ],
      "metadata": {
        "id": "3Z39XoYc5cOo"
      }
    },
    {
      "cell_type": "markdown",
      "metadata": {
        "id": "0_HoAh5H8GZO"
      },
      "source": [
        "*Загрузим другой набор данных*"
      ]
    },
    {
      "cell_type": "code",
      "execution_count": null,
      "metadata": {
        "id": "eKherf3B8GZO"
      },
      "outputs": [],
      "source": [
        "temp = sc.textFile(\"data/1800.csv\")"
      ]
    },
    {
      "cell_type": "code",
      "execution_count": null,
      "metadata": {
        "id": "_c65z2rp8GZO",
        "outputId": "ff8eb5a2-661b-4629-ca77-1da597d9bf75",
        "colab": {
          "base_uri": "https://localhost:8080/"
        }
      },
      "outputs": [
        {
          "output_type": "execute_result",
          "data": {
            "text/plain": [
              "['ITE00100554,18000101,TMAX,-75,,,E,',\n",
              " 'ITE00100554,18000101,TMIN,-148,,,E,',\n",
              " 'GM000010962,18000101,PRCP,0,,,E,',\n",
              " 'EZE00100082,18000101,TMAX,-86,,,E,',\n",
              " 'EZE00100082,18000101,TMIN,-135,,,E,']"
            ]
          },
          "metadata": {},
          "execution_count": 68
        }
      ],
      "source": [
        "temp.take(5)"
      ]
    },
    {
      "cell_type": "markdown",
      "metadata": {
        "id": "ox_l-fmM8GZO"
      },
      "source": [
        "*Найдем метеостанции с минимальной температурой:*"
      ]
    },
    {
      "cell_type": "code",
      "execution_count": null,
      "metadata": {
        "id": "FuFHh2Bo8GZO"
      },
      "outputs": [],
      "source": [
        "def parseLine(line):\n",
        "    fields = line.split(',')\n",
        "    stationID = fields[0]\n",
        "    entryType = fields[2]\n",
        "    # Преобразуем градусы Цельсия в градусы Фарингейты\n",
        "    temperature = float(fields[3]) * 0.1 * (9.0 / 5.0) + 32.0\n",
        "    return (stationID, entryType, temperature)"
      ]
    },
    {
      "cell_type": "code",
      "execution_count": null,
      "metadata": {
        "id": "E0zVT7QI8GZQ"
      },
      "outputs": [],
      "source": [
        "tempRDD = temp.map(parseLine)"
      ]
    },
    {
      "cell_type": "code",
      "execution_count": null,
      "metadata": {
        "id": "Kcrn1rxk8GZQ",
        "outputId": "c7c62697-4619-4dc2-9b10-43c98ca0ed43",
        "colab": {
          "base_uri": "https://localhost:8080/"
        }
      },
      "outputs": [
        {
          "output_type": "execute_result",
          "data": {
            "text/plain": [
              "[('ITE00100554', 'TMAX', 18.5),\n",
              " ('ITE00100554', 'TMIN', 5.359999999999999),\n",
              " ('GM000010962', 'PRCP', 32.0),\n",
              " ('EZE00100082', 'TMAX', 16.52),\n",
              " ('EZE00100082', 'TMIN', 7.699999999999999)]"
            ]
          },
          "metadata": {},
          "execution_count": 71
        }
      ],
      "source": [
        "tempRDD.take(5)"
      ]
    },
    {
      "cell_type": "code",
      "execution_count": null,
      "metadata": {
        "id": "W78Q_6jS8GZQ"
      },
      "outputs": [],
      "source": [
        "minTemps = tempRDD.filter(lambda x: \"TMIN\" in x[1])"
      ]
    },
    {
      "cell_type": "code",
      "execution_count": null,
      "metadata": {
        "id": "C94tjnj48GZQ",
        "outputId": "d3b12637-889b-441c-b3cf-975db3dba197",
        "colab": {
          "base_uri": "https://localhost:8080/"
        }
      },
      "outputs": [
        {
          "output_type": "execute_result",
          "data": {
            "text/plain": [
              "[('ITE00100554', 'TMIN', 5.359999999999999),\n",
              " ('EZE00100082', 'TMIN', 7.699999999999999),\n",
              " ('ITE00100554', 'TMIN', 9.5),\n",
              " ('EZE00100082', 'TMIN', 8.599999999999998),\n",
              " ('ITE00100554', 'TMIN', 23.72)]"
            ]
          },
          "metadata": {},
          "execution_count": 73
        }
      ],
      "source": [
        "minTemps.take(5)"
      ]
    },
    {
      "cell_type": "code",
      "execution_count": null,
      "metadata": {
        "id": "1ODlIAa58GZQ"
      },
      "outputs": [],
      "source": [
        "stationTemps = minTemps.map(lambda x: (x[0], x[2]))"
      ]
    },
    {
      "cell_type": "code",
      "execution_count": null,
      "metadata": {
        "id": "hWg9WATF8GZQ"
      },
      "outputs": [],
      "source": [
        "minTemps = stationTemps.reduceByKey(lambda x, y: round(min(x,y), 2))"
      ]
    },
    {
      "cell_type": "code",
      "execution_count": null,
      "metadata": {
        "id": "dMUvYZaL8GZQ",
        "outputId": "aab9c8bc-f330-4641-f96b-95fb5bd9bb58",
        "colab": {
          "base_uri": "https://localhost:8080/"
        }
      },
      "outputs": [
        {
          "output_type": "execute_result",
          "data": {
            "text/plain": [
              "[('ITE00100554', 5.36), ('EZE00100082', 7.7)]"
            ]
          },
          "metadata": {},
          "execution_count": 76
        }
      ],
      "source": [
        "minTemps.collect()"
      ]
    },
    {
      "cell_type": "markdown",
      "source": [
        "#### 2. Подсчет частоты упоминания слов в тексте"
      ],
      "metadata": {
        "id": "s_O7FHXS5ist"
      }
    },
    {
      "cell_type": "markdown",
      "metadata": {
        "id": "-AEeECf38GZQ"
      },
      "source": [
        "*Загрузим новый датасет и посчитаем количество упоминаний каждого слова в файле:*"
      ]
    },
    {
      "cell_type": "code",
      "execution_count": null,
      "metadata": {
        "id": "q1LZgO_r8GZQ"
      },
      "outputs": [],
      "source": [
        "book = sc.textFile(\"data/Book.txt\")"
      ]
    },
    {
      "cell_type": "code",
      "execution_count": null,
      "metadata": {
        "id": "M32WceuD8GZQ",
        "outputId": "f1930fea-a5f4-400d-e052-b9486984da2a",
        "colab": {
          "base_uri": "https://localhost:8080/"
        }
      },
      "outputs": [
        {
          "output_type": "execute_result",
          "data": {
            "text/plain": [
              "['Self-Employment: Building an Internet Business of One',\n",
              " 'Achieving Financial and Personal Freedom through a Lifestyle Technology Business']"
            ]
          },
          "metadata": {},
          "execution_count": 78
        }
      ],
      "source": [
        "book.take(2)"
      ]
    },
    {
      "cell_type": "markdown",
      "source": [
        "Определим функцию normalizeWords, которая принимает текст, преобразует его в нижний регистр и разделяет на слова. Разделение происходит по любому символу, который не является буквой или цифрой (\\W+):"
      ],
      "metadata": {
        "id": "GmmRfO_p5t9C"
      }
    },
    {
      "cell_type": "code",
      "execution_count": null,
      "metadata": {
        "id": "jUPg-KCd8GZQ"
      },
      "outputs": [],
      "source": [
        "def normalizeWords(text):\n",
        "    return re.compile(r'\\W+', re.UNICODE).split(text.lower())"
      ]
    },
    {
      "cell_type": "markdown",
      "source": [
        "Применяем функцию normalizeWords к каждой строке в RDD book и объединим результаты в один RDD - words:"
      ],
      "metadata": {
        "id": "Rdyu6Cex52K0"
      }
    },
    {
      "cell_type": "code",
      "execution_count": null,
      "metadata": {
        "id": "8RTOPqkf8GZR"
      },
      "outputs": [],
      "source": [
        "words = book.flatMap(normalizeWords)"
      ]
    },
    {
      "cell_type": "markdown",
      "source": [
        "Преобразуем каждое слово в пару (word, 1), а затем подсчитаем количество каждого слова, используя reduceByKey():"
      ],
      "metadata": {
        "id": "nZzFIbR26AGO"
      }
    },
    {
      "cell_type": "code",
      "execution_count": null,
      "metadata": {
        "id": "qtoVcAN58GZR"
      },
      "outputs": [],
      "source": [
        "wordCounts = words.map(lambda x: (x, 1)).reduceByKey(lambda x, y: x + y)"
      ]
    },
    {
      "cell_type": "code",
      "execution_count": null,
      "metadata": {
        "id": "NYgHHf2d8GZR",
        "outputId": "2bb3e4bf-c65a-499c-9d49-39231e27a42b",
        "colab": {
          "base_uri": "https://localhost:8080/"
        }
      },
      "outputs": [
        {
          "output_type": "execute_result",
          "data": {
            "text/plain": [
              "[('self', 111),\n",
              " ('employment', 75),\n",
              " ('building', 33),\n",
              " ('an', 178),\n",
              " ('internet', 26)]"
            ]
          },
          "metadata": {},
          "execution_count": 82
        }
      ],
      "source": [
        "wordCounts.take(5)"
      ]
    },
    {
      "cell_type": "markdown",
      "source": [
        "Меняем местами каждую пару (слово, количество) в wordCounts, делая количество ключом, и затем сортируем результаты по ключу (количеству) в порядке убывания:"
      ],
      "metadata": {
        "id": "ix-VrJL06agW"
      }
    },
    {
      "cell_type": "code",
      "execution_count": null,
      "metadata": {
        "id": "9hrOnpbM8GZR"
      },
      "outputs": [],
      "source": [
        "wordCountsSorted = wordCounts.map(lambda x: (x[1], x[0])).sortByKey(ascending= False)"
      ]
    },
    {
      "cell_type": "markdown",
      "source": [
        "Отобразим десять самых часто встречающихся слов:"
      ],
      "metadata": {
        "id": "pp7IypFk6kJS"
      }
    },
    {
      "cell_type": "code",
      "execution_count": null,
      "metadata": {
        "id": "a37cETtQ8GZR",
        "outputId": "cecf823a-741a-4d3b-9204-1af50402b958",
        "colab": {
          "base_uri": "https://localhost:8080/"
        }
      },
      "outputs": [
        {
          "output_type": "execute_result",
          "data": {
            "text/plain": [
              "[(1878, 'you'),\n",
              " (1828, 'to'),\n",
              " (1420, 'your'),\n",
              " (1292, 'the'),\n",
              " (1191, 'a'),\n",
              " (970, 'of'),\n",
              " (934, 'and'),\n",
              " (772, ''),\n",
              " (747, 'that'),\n",
              " (649, 'it')]"
            ]
          },
          "metadata": {},
          "execution_count": 84
        }
      ],
      "source": [
        "wordCountsSorted.take(10)"
      ]
    },
    {
      "cell_type": "markdown",
      "metadata": {
        "id": "F_PAsvyj8GZR"
      },
      "source": [
        "----"
      ]
    }
  ],
  "metadata": {
    "kernelspec": {
      "display_name": "Python 3",
      "language": "python",
      "name": "python3"
    },
    "language_info": {
      "codemirror_mode": {
        "name": "ipython",
        "version": 3
      },
      "file_extension": ".py",
      "mimetype": "text/x-python",
      "name": "python",
      "nbconvert_exporter": "python",
      "pygments_lexer": "ipython3",
      "version": "3.8.2"
    },
    "colab": {
      "provenance": []
    }
  },
  "nbformat": 4,
  "nbformat_minor": 0
}